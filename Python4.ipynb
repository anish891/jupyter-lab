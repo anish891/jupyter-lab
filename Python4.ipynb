{
 "cells": [
  {
   "cell_type": "code",
   "execution_count": 1,
   "id": "286887e8",
   "metadata": {},
   "outputs": [],
   "source": [
    "# Object Oriented Programming"
   ]
  },
  {
   "cell_type": "code",
   "execution_count": null,
   "id": "ca2f3694",
   "metadata": {},
   "outputs": [],
   "source": [
    "# Class - Classification of a real-world entity"
   ]
  },
  {
   "cell_type": "code",
   "execution_count": null,
   "id": "90b0bc8f",
   "metadata": {},
   "outputs": [],
   "source": [
    "# Object - instance of a class which hold data"
   ]
  },
  {
   "cell_type": "code",
   "execution_count": 3,
   "id": "c3a48c14",
   "metadata": {},
   "outputs": [],
   "source": [
    "def test():\n",
    "    pass      #Used when there is no body of function"
   ]
  },
  {
   "cell_type": "code",
   "execution_count": 4,
   "id": "c62d364b",
   "metadata": {},
   "outputs": [],
   "source": [
    "class test:\n",
    "    pass      #Used when there is no body of function"
   ]
  },
  {
   "cell_type": "code",
   "execution_count": 5,
   "id": "015ae8d9",
   "metadata": {},
   "outputs": [],
   "source": [
    "class person:\n",
    "    pass"
   ]
  },
  {
   "cell_type": "code",
   "execution_count": 6,
   "id": "4d8d8797",
   "metadata": {},
   "outputs": [],
   "source": [
    "p = person"
   ]
  },
  {
   "cell_type": "code",
   "execution_count": 7,
   "id": "1ca9862a",
   "metadata": {},
   "outputs": [
    {
     "data": {
      "text/plain": [
       "__main__.person"
      ]
     },
     "execution_count": 7,
     "metadata": {},
     "output_type": "execute_result"
    }
   ],
   "source": [
    "p"
   ]
  },
  {
   "cell_type": "code",
   "execution_count": 10,
   "id": "4e79460f",
   "metadata": {
    "scrolled": true
   },
   "outputs": [
    {
     "data": {
      "text/plain": [
       "type"
      ]
     },
     "execution_count": 10,
     "metadata": {},
     "output_type": "execute_result"
    }
   ],
   "source": [
    "type(p)"
   ]
  },
  {
   "cell_type": "code",
   "execution_count": 11,
   "id": "d4d00fdb",
   "metadata": {},
   "outputs": [
    {
     "name": "stdout",
     "output_type": "stream",
     "text": [
      "<class '__main__.person'>\n"
     ]
    }
   ],
   "source": [
    "print(p)"
   ]
  },
  {
   "cell_type": "code",
   "execution_count": 11,
   "id": "b9c79a67",
   "metadata": {},
   "outputs": [],
   "source": [
    "p.name = \"anish\"\n",
    "p.surname = \"tejwani\"\n",
    "p.yob = 270802"
   ]
  },
  {
   "cell_type": "code",
   "execution_count": 12,
   "id": "f37f7910",
   "metadata": {},
   "outputs": [],
   "source": [
    "a = person   # p and a are variable of person class"
   ]
  },
  {
   "cell_type": "code",
   "execution_count": 13,
   "id": "0677fba2",
   "metadata": {},
   "outputs": [],
   "source": [
    "a.name = \"abc\"\n",
    "a.yob = 231842\n",
    "a.empno = 4325840"
   ]
  },
  {
   "cell_type": "code",
   "execution_count": 14,
   "id": "938262dc",
   "metadata": {},
   "outputs": [
    {
     "data": {
      "text/plain": [
       "'anish'"
      ]
     },
     "execution_count": 14,
     "metadata": {},
     "output_type": "execute_result"
    }
   ],
   "source": [
    "p.name  # Bad approach for creating objects and classes"
   ]
  },
  {
   "cell_type": "code",
   "execution_count": 15,
   "id": "c4f9c4c7",
   "metadata": {},
   "outputs": [
    {
     "data": {
      "text/plain": [
       "'tejwani'"
      ]
     },
     "execution_count": 15,
     "metadata": {},
     "output_type": "execute_result"
    }
   ],
   "source": [
    "p.surname"
   ]
  },
  {
   "cell_type": "code",
   "execution_count": 16,
   "id": "ed977537",
   "metadata": {},
   "outputs": [
    {
     "data": {
      "text/plain": [
       "270802"
      ]
     },
     "execution_count": 16,
     "metadata": {},
     "output_type": "execute_result"
    }
   ],
   "source": [
    "p.yob"
   ]
  },
  {
   "cell_type": "code",
   "execution_count": 17,
   "id": "681ba27f",
   "metadata": {},
   "outputs": [
    {
     "data": {
      "text/plain": [
       "'abc'"
      ]
     },
     "execution_count": 17,
     "metadata": {},
     "output_type": "execute_result"
    }
   ],
   "source": [
    "a.name"
   ]
  },
  {
   "cell_type": "code",
   "execution_count": 18,
   "id": "1675a025",
   "metadata": {
    "scrolled": true
   },
   "outputs": [
    {
     "ename": "AttributeError",
     "evalue": "type object 'person' has no attribute 'surname'",
     "output_type": "error",
     "traceback": [
      "\u001b[1;31m---------------------------------------------------------------------------\u001b[0m",
      "\u001b[1;31mAttributeError\u001b[0m                            Traceback (most recent call last)",
      "Cell \u001b[1;32mIn[18], line 1\u001b[0m\n\u001b[1;32m----> 1\u001b[0m a\u001b[38;5;241m.\u001b[39msurname\n",
      "\u001b[1;31mAttributeError\u001b[0m: type object 'person' has no attribute 'surname'"
     ]
    }
   ],
   "source": [
    "a.surname"
   ]
  },
  {
   "cell_type": "code",
   "execution_count": 23,
   "id": "b7d24b86",
   "metadata": {},
   "outputs": [
    {
     "data": {
      "text/plain": [
       "str"
      ]
     },
     "execution_count": 23,
     "metadata": {},
     "output_type": "execute_result"
    }
   ],
   "source": [
    "type(p.name)"
   ]
  },
  {
   "cell_type": "code",
   "execution_count": null,
   "id": "74153483",
   "metadata": {},
   "outputs": [],
   "source": []
  },
  {
   "cell_type": "code",
   "execution_count": null,
   "id": "5956adcf",
   "metadata": {},
   "outputs": [],
   "source": []
  },
  {
   "cell_type": "code",
   "execution_count": 20,
   "id": "f2e2041b",
   "metadata": {},
   "outputs": [],
   "source": [
    "class person:\n",
    "    def __init__(self,name,surname,yob):  # method in a class  #init is for initilisation\n",
    "        self.name = name\n",
    "        self.surname = surname\n",
    "        self.yob = yob"
   ]
  },
  {
   "cell_type": "code",
   "execution_count": 21,
   "id": "83360bc8",
   "metadata": {},
   "outputs": [
    {
     "name": "stdout",
     "output_type": "stream",
     "text": [
      "<__main__.person object at 0x0000022EE5015D90>\n"
     ]
    }
   ],
   "source": [
    "p = person(\"anish\", \"tejwani\", 270802)\n",
    "print(p)"
   ]
  },
  {
   "cell_type": "code",
   "execution_count": 22,
   "id": "c54ff912",
   "metadata": {},
   "outputs": [],
   "source": [
    "s = person(\"abc\", \"sfda\", 78045)"
   ]
  },
  {
   "cell_type": "code",
   "execution_count": 23,
   "id": "a81daacd",
   "metadata": {},
   "outputs": [
    {
     "data": {
      "text/plain": [
       "'abc'"
      ]
     },
     "execution_count": 23,
     "metadata": {},
     "output_type": "execute_result"
    }
   ],
   "source": [
    "s.name\n"
   ]
  },
  {
   "cell_type": "code",
   "execution_count": 24,
   "id": "2084e7bf",
   "metadata": {},
   "outputs": [
    {
     "data": {
      "text/plain": [
       "'anish'"
      ]
     },
     "execution_count": 24,
     "metadata": {},
     "output_type": "execute_result"
    }
   ],
   "source": [
    "p.name"
   ]
  },
  {
   "cell_type": "code",
   "execution_count": 25,
   "id": "a7843bbd",
   "metadata": {},
   "outputs": [
    {
     "data": {
      "text/plain": [
       "'abc'"
      ]
     },
     "execution_count": 25,
     "metadata": {},
     "output_type": "execute_result"
    }
   ],
   "source": [
    "s.name"
   ]
  },
  {
   "cell_type": "code",
   "execution_count": null,
   "id": "a3d23eff",
   "metadata": {},
   "outputs": [],
   "source": []
  },
  {
   "cell_type": "code",
   "execution_count": 28,
   "id": "d854a0b0",
   "metadata": {},
   "outputs": [],
   "source": [
    "class person:\n",
    "    def __init__(self,name,surname,yob):\n",
    "        self.name = name\n",
    "        self.surname = surname\n",
    "        self.yob = yob\n",
    "    def test(self,n,m):\n",
    "        return n+m+self.yob\n",
    "    def __str__(self):\n",
    "        return \"%s is first name its surname is %s and year of birth is %d\" %(self.name,self.surname,self.yob)"
   ]
  },
  {
   "cell_type": "code",
   "execution_count": 29,
   "id": "0000701e",
   "metadata": {
    "scrolled": true
   },
   "outputs": [],
   "source": [
    "p = person(\"anish\",\"tejwani\",34)"
   ]
  },
  {
   "cell_type": "code",
   "execution_count": 30,
   "id": "960de3c8",
   "metadata": {},
   "outputs": [
    {
     "data": {
      "text/plain": [
       "'anish'"
      ]
     },
     "execution_count": 30,
     "metadata": {},
     "output_type": "execute_result"
    }
   ],
   "source": [
    "p.name"
   ]
  },
  {
   "cell_type": "code",
   "execution_count": 17,
   "id": "4682f129",
   "metadata": {},
   "outputs": [
    {
     "data": {
      "text/plain": [
       "92"
      ]
     },
     "execution_count": 17,
     "metadata": {},
     "output_type": "execute_result"
    }
   ],
   "source": [
    "p.test(34,24)           #It is a class method which has to be called through class object"
   ]
  },
  {
   "cell_type": "code",
   "execution_count": 18,
   "id": "f4e9cf8e",
   "metadata": {},
   "outputs": [],
   "source": [
    "s = person(\"fsds\",\"fdsf\",2342)"
   ]
  },
  {
   "cell_type": "code",
   "execution_count": 19,
   "id": "da4d5b22",
   "metadata": {},
   "outputs": [
    {
     "data": {
      "text/plain": [
       "2407"
      ]
     },
     "execution_count": 19,
     "metadata": {},
     "output_type": "execute_result"
    }
   ],
   "source": [
    "s.test(23,42)"
   ]
  },
  {
   "cell_type": "code",
   "execution_count": 20,
   "id": "5de630a2",
   "metadata": {},
   "outputs": [
    {
     "name": "stdout",
     "output_type": "stream",
     "text": [
      "<__main__.person object at 0x0000026939BCE650>\n"
     ]
    }
   ],
   "source": [
    "print(p)"
   ]
  },
  {
   "cell_type": "code",
   "execution_count": 31,
   "id": "f296e1a3",
   "metadata": {},
   "outputs": [
    {
     "name": "stdout",
     "output_type": "stream",
     "text": [
      "anish is first name its surname is tejwani and year of birth is 34\n"
     ]
    }
   ],
   "source": [
    "print(p)"
   ]
  },
  {
   "cell_type": "code",
   "execution_count": 32,
   "id": "8ef96e3a",
   "metadata": {},
   "outputs": [
    {
     "name": "stdout",
     "output_type": "stream",
     "text": [
      "<__main__.person object at 0x0000026939B9C750>\n"
     ]
    }
   ],
   "source": [
    "print(s)"
   ]
  },
  {
   "cell_type": "code",
   "execution_count": 33,
   "id": "a74bde7a",
   "metadata": {},
   "outputs": [
    {
     "data": {
      "text/plain": [
       "<__main__.person at 0x26939c74590>"
      ]
     },
     "execution_count": 33,
     "metadata": {},
     "output_type": "execute_result"
    }
   ],
   "source": [
    "p"
   ]
  },
  {
   "cell_type": "code",
   "execution_count": 34,
   "id": "7b962995",
   "metadata": {},
   "outputs": [],
   "source": [
    "class test:\n",
    "    pass"
   ]
  },
  {
   "cell_type": "code",
   "execution_count": 35,
   "id": "37826ea8",
   "metadata": {},
   "outputs": [],
   "source": [
    "p = test()\n",
    "p.name = \"anish\"\n",
    "p.surname = \"tejwani\"\n",
    "p.yob = 2342"
   ]
  },
  {
   "cell_type": "code",
   "execution_count": 36,
   "id": "de86051f",
   "metadata": {},
   "outputs": [
    {
     "data": {
      "text/plain": [
       "'anish'"
      ]
     },
     "execution_count": 36,
     "metadata": {},
     "output_type": "execute_result"
    }
   ],
   "source": [
    "p.name"
   ]
  },
  {
   "cell_type": "code",
   "execution_count": 38,
   "id": "4198138b",
   "metadata": {},
   "outputs": [],
   "source": [
    "s = test()\n",
    "s.name = \"sff\""
   ]
  },
  {
   "cell_type": "code",
   "execution_count": 39,
   "id": "c9ff513b",
   "metadata": {},
   "outputs": [
    {
     "data": {
      "text/plain": [
       "'sff'"
      ]
     },
     "execution_count": 39,
     "metadata": {},
     "output_type": "execute_result"
    }
   ],
   "source": [
    "s.name"
   ]
  },
  {
   "cell_type": "code",
   "execution_count": 40,
   "id": "a52e5ebc",
   "metadata": {},
   "outputs": [
    {
     "data": {
      "text/plain": [
       "'anish'"
      ]
     },
     "execution_count": 40,
     "metadata": {},
     "output_type": "execute_result"
    }
   ],
   "source": [
    "p.name"
   ]
  },
  {
   "cell_type": "code",
   "execution_count": 41,
   "id": "e231ddbc",
   "metadata": {},
   "outputs": [
    {
     "data": {
      "text/plain": [
       "<__main__.test at 0x26939b7fa50>"
      ]
     },
     "execution_count": 41,
     "metadata": {},
     "output_type": "execute_result"
    }
   ],
   "source": [
    " p"
   ]
  },
  {
   "cell_type": "code",
   "execution_count": 43,
   "id": "f78a54a9",
   "metadata": {},
   "outputs": [
    {
     "name": "stdout",
     "output_type": "stream",
     "text": [
      "<__main__.test object at 0x0000026939B7FA50>\n"
     ]
    }
   ],
   "source": [
    "print(p)"
   ]
  },
  {
   "cell_type": "code",
   "execution_count": null,
   "id": "3754c90b",
   "metadata": {},
   "outputs": [],
   "source": []
  },
  {
   "cell_type": "code",
   "execution_count": null,
   "id": "1497863a",
   "metadata": {},
   "outputs": [],
   "source": []
  },
  {
   "cell_type": "code",
   "execution_count": null,
   "id": "4c28e0a1",
   "metadata": {},
   "outputs": [],
   "source": []
  },
  {
   "cell_type": "code",
   "execution_count": 13,
   "id": "68712eeb",
   "metadata": {},
   "outputs": [],
   "source": [
    "class person:\n",
    "    def pass_name(self, name):\n",
    "        self.name = name\n",
    "        \n",
    "    def pass_surnmae(self, surname):\n",
    "        self.surname = surname\n",
    "        \n",
    "    def pass_yob(self, yob):\n",
    "        self.yob = yob"
   ]
  },
  {
   "cell_type": "code",
   "execution_count": 14,
   "id": "b22ef417",
   "metadata": {},
   "outputs": [],
   "source": [
    "p = person()"
   ]
  },
  {
   "cell_type": "code",
   "execution_count": 15,
   "id": "b6d16fb1",
   "metadata": {},
   "outputs": [],
   "source": [
    "p.pass_name(\"anish\")"
   ]
  },
  {
   "cell_type": "code",
   "execution_count": 16,
   "id": "f6e57e25",
   "metadata": {},
   "outputs": [
    {
     "data": {
      "text/plain": [
       "'anish'"
      ]
     },
     "execution_count": 16,
     "metadata": {},
     "output_type": "execute_result"
    }
   ],
   "source": [
    "p.name"
   ]
  },
  {
   "cell_type": "code",
   "execution_count": 17,
   "id": "96ee8bfd",
   "metadata": {},
   "outputs": [],
   "source": [
    "p.pass_surnmae(\"tejwani\")\n",
    "p.pass_yob(270802)"
   ]
  },
  {
   "cell_type": "code",
   "execution_count": 18,
   "id": "eb245339",
   "metadata": {},
   "outputs": [
    {
     "data": {
      "text/plain": [
       "270802"
      ]
     },
     "execution_count": 18,
     "metadata": {},
     "output_type": "execute_result"
    }
   ],
   "source": [
    "p.yob"
   ]
  },
  {
   "cell_type": "code",
   "execution_count": null,
   "id": "2bbac6e0",
   "metadata": {},
   "outputs": [],
   "source": []
  },
  {
   "cell_type": "code",
   "execution_count": null,
   "id": "074295ec",
   "metadata": {},
   "outputs": [],
   "source": [
    "#Abstraction"
   ]
  },
  {
   "cell_type": "code",
   "execution_count": 19,
   "id": "574b61ce",
   "metadata": {},
   "outputs": [],
   "source": [
    "class person:\n",
    "    def __init__(self,name,surname,yob):\n",
    "        self._name = name\n",
    "        self._surname = surname\n",
    "        self._yob = yob\n",
    "    def test(self,n,m):\n",
    "        return n+m+self.yob\n",
    "    def __str__(self):\n",
    "        return \"%s is first name its surname is %s and year of birth is %d\" %(self._name,self._surname,self._yob)"
   ]
  },
  {
   "cell_type": "code",
   "execution_count": 20,
   "id": "7d990188",
   "metadata": {},
   "outputs": [],
   "source": [
    "p = person(\"anish\", \"tejwani\", 270802)"
   ]
  },
  {
   "cell_type": "code",
   "execution_count": 22,
   "id": "5d4c7e6b",
   "metadata": {},
   "outputs": [
    {
     "data": {
      "text/plain": [
       "'anish'"
      ]
     },
     "execution_count": 22,
     "metadata": {},
     "output_type": "execute_result"
    }
   ],
   "source": [
    "p._name    # This notation is called protected if not underscore it is public"
   ]
  },
  {
   "cell_type": "code",
   "execution_count": 23,
   "id": "ca8976f2",
   "metadata": {},
   "outputs": [
    {
     "data": {
      "text/plain": [
       "{'_name': 'anish', '_surname': 'tejwani', '_yob': 270802}"
      ]
     },
     "execution_count": 23,
     "metadata": {},
     "output_type": "execute_result"
    }
   ],
   "source": [
    "p.__dict__    #Shows how data is stored"
   ]
  },
  {
   "cell_type": "code",
   "execution_count": 25,
   "id": "d28d163f",
   "metadata": {},
   "outputs": [
    {
     "data": {
      "text/plain": [
       "<__main__.person at 0x236d2f05350>"
      ]
     },
     "execution_count": 25,
     "metadata": {},
     "output_type": "execute_result"
    }
   ],
   "source": [
    "p"
   ]
  },
  {
   "cell_type": "code",
   "execution_count": 26,
   "id": "3d52f492",
   "metadata": {},
   "outputs": [],
   "source": [
    "s = person(\"sdad\", \"fdfa\", 43444)"
   ]
  },
  {
   "cell_type": "code",
   "execution_count": 27,
   "id": "5e3acec3",
   "metadata": {},
   "outputs": [
    {
     "data": {
      "text/plain": [
       "{'_name': 'sdad', '_surname': 'fdfa', '_yob': 43444}"
      ]
     },
     "execution_count": 27,
     "metadata": {},
     "output_type": "execute_result"
    }
   ],
   "source": [
    "s.__dict__"
   ]
  },
  {
   "cell_type": "code",
   "execution_count": 28,
   "id": "30dd0858",
   "metadata": {},
   "outputs": [],
   "source": [
    "class person:\n",
    "    def __init__(self,name,surname,yob):\n",
    "        self.__name = name  # Defines private class\n",
    "        self.surname = surname\n",
    "        self.yob = yob\n",
    "    def test(self,n,m):\n",
    "        return n+m+self.yob\n",
    "    def __str__(self):\n",
    "        return \"%s is first name its surname is %s and year of birth is %d\" %(self.__name,self.surname,self.yob)"
   ]
  },
  {
   "cell_type": "code",
   "execution_count": 29,
   "id": "15658a17",
   "metadata": {},
   "outputs": [],
   "source": [
    "p = person(\"anish\", \"tejwani\", 21)"
   ]
  },
  {
   "cell_type": "code",
   "execution_count": 30,
   "id": "bd3698ba",
   "metadata": {},
   "outputs": [
    {
     "ename": "AttributeError",
     "evalue": "'person' object has no attribute '__name'",
     "output_type": "error",
     "traceback": [
      "\u001b[1;31m---------------------------------------------------------------------------\u001b[0m",
      "\u001b[1;31mAttributeError\u001b[0m                            Traceback (most recent call last)",
      "Cell \u001b[1;32mIn[30], line 1\u001b[0m\n\u001b[1;32m----> 1\u001b[0m p\u001b[38;5;241m.\u001b[39m__name\n",
      "\u001b[1;31mAttributeError\u001b[0m: 'person' object has no attribute '__name'"
     ]
    }
   ],
   "source": [
    "p.__name  #Name is stored privately"
   ]
  },
  {
   "cell_type": "code",
   "execution_count": 31,
   "id": "b7ccbb96",
   "metadata": {},
   "outputs": [
    {
     "data": {
      "text/plain": [
       "{'_person__name': 'anish', 'surname': 'tejwani', 'yob': 21}"
      ]
     },
     "execution_count": 31,
     "metadata": {},
     "output_type": "execute_result"
    }
   ],
   "source": [
    "p.__dict__"
   ]
  },
  {
   "cell_type": "code",
   "execution_count": null,
   "id": "d8841a55",
   "metadata": {},
   "outputs": [],
   "source": [
    "# Private stores like _classname__attribute"
   ]
  },
  {
   "cell_type": "code",
   "execution_count": 32,
   "id": "39c32947",
   "metadata": {},
   "outputs": [
    {
     "data": {
      "text/plain": [
       "'anish'"
      ]
     },
     "execution_count": 32,
     "metadata": {},
     "output_type": "execute_result"
    }
   ],
   "source": [
    "p._person__name"
   ]
  },
  {
   "cell_type": "code",
   "execution_count": null,
   "id": "123ab15d",
   "metadata": {},
   "outputs": [],
   "source": []
  },
  {
   "cell_type": "code",
   "execution_count": null,
   "id": "f314d245",
   "metadata": {},
   "outputs": [],
   "source": []
  },
  {
   "cell_type": "code",
   "execution_count": null,
   "id": "89947788",
   "metadata": {},
   "outputs": [],
   "source": []
  },
  {
   "cell_type": "code",
   "execution_count": null,
   "id": "a3bb73b7",
   "metadata": {},
   "outputs": [],
   "source": [
    "#Inheritance"
   ]
  },
  {
   "cell_type": "code",
   "execution_count": null,
   "id": "1ca1be0d",
   "metadata": {},
   "outputs": [],
   "source": []
  }
 ],
 "metadata": {
  "kernelspec": {
   "display_name": "Python 3 (ipykernel)",
   "language": "python",
   "name": "python3"
  },
  "language_info": {
   "codemirror_mode": {
    "name": "ipython",
    "version": 3
   },
   "file_extension": ".py",
   "mimetype": "text/x-python",
   "name": "python",
   "nbconvert_exporter": "python",
   "pygments_lexer": "ipython3",
   "version": "3.11.3"
  }
 },
 "nbformat": 4,
 "nbformat_minor": 5
}
