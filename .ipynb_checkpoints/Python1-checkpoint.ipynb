{
 "cells": [
  {
   "cell_type": "code",
   "execution_count": 1,
   "id": "f6395fb0",
   "metadata": {},
   "outputs": [
    {
     "data": {
      "text/plain": [
       "2"
      ]
     },
     "execution_count": 1,
     "metadata": {},
     "output_type": "execute_result"
    }
   ],
   "source": [
    "1+1"
   ]
  },
  {
   "cell_type": "code",
   "execution_count": 14,
   "id": "78ce9d60",
   "metadata": {},
   "outputs": [
    {
     "data": {
      "text/plain": [
       "(4+7j)"
      ]
     },
     "execution_count": 14,
     "metadata": {},
     "output_type": "execute_result"
    }
   ],
   "source": [
    "a = 4 + 7j\n",
    "a"
   ]
  },
  {
   "cell_type": "code",
   "execution_count": 15,
   "id": "24756895",
   "metadata": {},
   "outputs": [
    {
     "data": {
      "text/plain": [
       "complex"
      ]
     },
     "execution_count": 15,
     "metadata": {},
     "output_type": "execute_result"
    }
   ],
   "source": [
    "type(a)"
   ]
  },
  {
   "cell_type": "code",
   "execution_count": 16,
   "id": "c135e45f",
   "metadata": {},
   "outputs": [
    {
     "data": {
      "text/plain": [
       "7.0"
      ]
     },
     "execution_count": 16,
     "metadata": {},
     "output_type": "execute_result"
    }
   ],
   "source": [
    "a.imag"
   ]
  },
  {
   "cell_type": "code",
   "execution_count": 17,
   "id": "314fe8d9",
   "metadata": {},
   "outputs": [
    {
     "data": {
      "text/plain": [
       "4.0"
      ]
     },
     "execution_count": 17,
     "metadata": {},
     "output_type": "execute_result"
    }
   ],
   "source": [
    "a.real"
   ]
  },
  {
   "cell_type": "code",
   "execution_count": 18,
   "id": "3c9b6e6d",
   "metadata": {},
   "outputs": [
    {
     "data": {
      "text/plain": [
       "<function complex.conjugate()>"
      ]
     },
     "execution_count": 18,
     "metadata": {},
     "output_type": "execute_result"
    }
   ],
   "source": [
    "a.conjugate"
   ]
  },
  {
   "cell_type": "code",
   "execution_count": 35,
   "id": "77944e5b",
   "metadata": {},
   "outputs": [
    {
     "data": {
      "text/plain": [
       "1"
      ]
     },
     "execution_count": 35,
     "metadata": {},
     "output_type": "execute_result"
    }
   ],
   "source": [
    "\"\"\"\n",
    "multi-line comment\n",
    "\"\"\"\n",
    "#this is a command for boolean value understanding\n",
    "True + False"
   ]
  },
  {
   "cell_type": "code",
   "execution_count": 36,
   "id": "49a0c5d9",
   "metadata": {},
   "outputs": [],
   "source": [
    "h = \"my name is anish\""
   ]
  },
  {
   "cell_type": "code",
   "execution_count": 37,
   "id": "60e5c4fa",
   "metadata": {},
   "outputs": [
    {
     "data": {
      "text/plain": [
       "str"
      ]
     },
     "execution_count": 37,
     "metadata": {},
     "output_type": "execute_result"
    }
   ],
   "source": [
    "type(h)"
   ]
  },
  {
   "cell_type": "code",
   "execution_count": 38,
   "id": "c21cad38",
   "metadata": {},
   "outputs": [
    {
     "data": {
      "text/plain": [
       "1982261597712"
      ]
     },
     "execution_count": 38,
     "metadata": {},
     "output_type": "execute_result"
    }
   ],
   "source": [
    "id(h)"
   ]
  },
  {
   "cell_type": "code",
   "execution_count": 39,
   "id": "e897e2c0",
   "metadata": {},
   "outputs": [
    {
     "name": "stdout",
     "output_type": "stream",
     "text": [
      "my name is anish\n"
     ]
    }
   ],
   "source": [
    "print(h)"
   ]
  },
  {
   "cell_type": "code",
   "execution_count": 40,
   "id": "dbc0949c",
   "metadata": {},
   "outputs": [],
   "source": [
    "s = \"ineuron\""
   ]
  },
  {
   "cell_type": "code",
   "execution_count": 41,
   "id": "3bbe2962",
   "metadata": {},
   "outputs": [
    {
     "data": {
      "text/plain": [
       "'i'"
      ]
     },
     "execution_count": 41,
     "metadata": {},
     "output_type": "execute_result"
    }
   ],
   "source": [
    "s[0]"
   ]
  },
  {
   "cell_type": "code",
   "execution_count": 47,
   "id": "171ca8cb",
   "metadata": {},
   "outputs": [
    {
     "data": {
      "text/plain": [
       "'ineur'"
      ]
     },
     "execution_count": 47,
     "metadata": {},
     "output_type": "execute_result"
    }
   ],
   "source": [
    "# Slicing Operations\n",
    "s[0:5]"
   ]
  },
  {
   "cell_type": "code",
   "execution_count": 49,
   "id": "55750ca4",
   "metadata": {},
   "outputs": [
    {
     "data": {
      "text/plain": [
       "'ier'"
      ]
     },
     "execution_count": 49,
     "metadata": {},
     "output_type": "execute_result"
    }
   ],
   "source": [
    "s[0:5:2]"
   ]
  },
  {
   "cell_type": "code",
   "execution_count": 50,
   "id": "6c890f3a",
   "metadata": {},
   "outputs": [
    {
     "data": {
      "text/plain": [
       "'oruen'"
      ]
     },
     "execution_count": 50,
     "metadata": {},
     "output_type": "execute_result"
    }
   ],
   "source": [
    "s[5:0:-1]"
   ]
  },
  {
   "cell_type": "code",
   "execution_count": 51,
   "id": "ec55ebfa",
   "metadata": {},
   "outputs": [
    {
     "data": {
      "text/plain": [
       "'norueni'"
      ]
     },
     "execution_count": 51,
     "metadata": {},
     "output_type": "execute_result"
    }
   ],
   "source": [
    "s[::-1]"
   ]
  },
  {
   "cell_type": "code",
   "execution_count": 52,
   "id": "5fd98396",
   "metadata": {},
   "outputs": [],
   "source": [
    "# In Pyhton List is used instaed of Arrays"
   ]
  },
  {
   "cell_type": "code",
   "execution_count": 54,
   "id": "4ed1cb35",
   "metadata": {},
   "outputs": [],
   "source": [
    "c = []"
   ]
  },
  {
   "cell_type": "code",
   "execution_count": 57,
   "id": "2b5184a1",
   "metadata": {},
   "outputs": [
    {
     "data": {
      "text/plain": [
       "list"
      ]
     },
     "execution_count": 57,
     "metadata": {},
     "output_type": "execute_result"
    }
   ],
   "source": [
    "type(c)"
   ]
  },
  {
   "cell_type": "code",
   "execution_count": 58,
   "id": "81de9f4a",
   "metadata": {},
   "outputs": [
    {
     "data": {
      "text/plain": [
       "[]"
      ]
     },
     "execution_count": 58,
     "metadata": {},
     "output_type": "execute_result"
    }
   ],
   "source": [
    "a = list()\n",
    "a"
   ]
  },
  {
   "cell_type": "code",
   "execution_count": 59,
   "id": "e4c033d6",
   "metadata": {},
   "outputs": [
    {
     "data": {
      "text/plain": [
       "list"
      ]
     },
     "execution_count": 59,
     "metadata": {},
     "output_type": "execute_result"
    }
   ],
   "source": [
    "type(a)"
   ]
  },
  {
   "cell_type": "code",
   "execution_count": 70,
   "id": "4a94c86d",
   "metadata": {},
   "outputs": [],
   "source": [
    "x = [1, 'anish', 'tejwani', 4, 45.5, 5+8j, [4, 5, 'dfsjs']]"
   ]
  },
  {
   "cell_type": "code",
   "execution_count": 71,
   "id": "77e9b808",
   "metadata": {},
   "outputs": [
    {
     "data": {
      "text/plain": [
       "list"
      ]
     },
     "execution_count": 71,
     "metadata": {},
     "output_type": "execute_result"
    }
   ],
   "source": [
    "type(x)"
   ]
  },
  {
   "cell_type": "code",
   "execution_count": 72,
   "id": "01753952",
   "metadata": {},
   "outputs": [
    {
     "data": {
      "text/plain": [
       "'tejwani'"
      ]
     },
     "execution_count": 72,
     "metadata": {},
     "output_type": "execute_result"
    }
   ],
   "source": [
    "x[2]"
   ]
  },
  {
   "cell_type": "code",
   "execution_count": 73,
   "id": "356d8efe",
   "metadata": {
    "scrolled": true
   },
   "outputs": [
    {
     "data": {
      "text/plain": [
       "int"
      ]
     },
     "execution_count": 73,
     "metadata": {},
     "output_type": "execute_result"
    }
   ],
   "source": [
    "type(x[3])"
   ]
  },
  {
   "cell_type": "code",
   "execution_count": 74,
   "id": "9fae8ba0",
   "metadata": {
    "scrolled": true
   },
   "outputs": [
    {
     "data": {
      "text/plain": [
       "'dfsjs'"
      ]
     },
     "execution_count": 74,
     "metadata": {},
     "output_type": "execute_result"
    }
   ],
   "source": [
    "x[6][2]"
   ]
  },
  {
   "cell_type": "code",
   "execution_count": 75,
   "id": "68a3cc34",
   "metadata": {},
   "outputs": [
    {
     "data": {
      "text/plain": [
       "[1, 'anish', 'tejwani', 4, 45.5]"
      ]
     },
     "execution_count": 75,
     "metadata": {},
     "output_type": "execute_result"
    }
   ],
   "source": [
    "x[0:5]"
   ]
  },
  {
   "cell_type": "code",
   "execution_count": null,
   "id": "0519255b",
   "metadata": {},
   "outputs": [],
   "source": []
  },
  {
   "cell_type": "code",
   "execution_count": 9,
   "id": "05a403b0",
   "metadata": {},
   "outputs": [],
   "source": [
    "# 2nd Lecture"
   ]
  },
  {
   "cell_type": "code",
   "execution_count": null,
   "id": "580cecb3",
   "metadata": {},
   "outputs": [],
   "source": []
  },
  {
   "cell_type": "code",
   "execution_count": 2,
   "id": "f47f4c4c",
   "metadata": {},
   "outputs": [
    {
     "data": {
      "text/plain": [
       "range(0, 10)"
      ]
     },
     "execution_count": 2,
     "metadata": {},
     "output_type": "execute_result"
    }
   ],
   "source": [
    "range(10)     #behaves like a generator function"
   ]
  },
  {
   "cell_type": "code",
   "execution_count": 3,
   "id": "e79087d2",
   "metadata": {},
   "outputs": [
    {
     "data": {
      "text/plain": [
       "[0, 1, 2, 3, 4, 5, 6, 7, 8, 9]"
      ]
     },
     "execution_count": 3,
     "metadata": {},
     "output_type": "execute_result"
    }
   ],
   "source": [
    "list(range(10))      #always excludes upper bound"
   ]
  },
  {
   "cell_type": "code",
   "execution_count": 5,
   "id": "3aa63653",
   "metadata": {},
   "outputs": [
    {
     "data": {
      "text/plain": [
       "[3, 4, 5, 6, 7, 8, 9]"
      ]
     },
     "execution_count": 5,
     "metadata": {},
     "output_type": "execute_result"
    }
   ],
   "source": [
    "list(range(3, 10))"
   ]
  },
  {
   "cell_type": "code",
   "execution_count": 6,
   "id": "23238808",
   "metadata": {},
   "outputs": [
    {
     "data": {
      "text/plain": [
       "[]"
      ]
     },
     "execution_count": 6,
     "metadata": {},
     "output_type": "execute_result"
    }
   ],
   "source": [
    "list(range(10, 3))"
   ]
  },
  {
   "cell_type": "code",
   "execution_count": 7,
   "id": "40ff446e",
   "metadata": {},
   "outputs": [
    {
     "data": {
      "text/plain": [
       "[10, 9, 8, 7, 6, 5, 4]"
      ]
     },
     "execution_count": 7,
     "metadata": {},
     "output_type": "execute_result"
    }
   ],
   "source": [
    "list(range(10, 3, -1))"
   ]
  },
  {
   "cell_type": "code",
   "execution_count": 18,
   "id": "dce952fd",
   "metadata": {},
   "outputs": [],
   "source": [
    "l = [3,4,5,6,7,8,23,4,5,5]\n",
    "m = []\n",
    "\n",
    "for i in l:\n",
    "    m.append(i+2)"
   ]
  },
  {
   "cell_type": "code",
   "execution_count": 19,
   "id": "ba66390c",
   "metadata": {},
   "outputs": [
    {
     "data": {
      "text/plain": [
       "[5, 6, 7, 8, 9, 10, 25, 6, 7, 7]"
      ]
     },
     "execution_count": 19,
     "metadata": {},
     "output_type": "execute_result"
    }
   ],
   "source": [
    "m"
   ]
  },
  {
   "cell_type": "code",
   "execution_count": 29,
   "id": "6295b090",
   "metadata": {},
   "outputs": [],
   "source": [
    "l = [3,4,5,6,7,8,23,4,5,5]\n",
    "m = []\n",
    "\n",
    "for i in range(len(l)):\n",
    "    m.append(l[i]+2)"
   ]
  },
  {
   "cell_type": "code",
   "execution_count": 31,
   "id": "5880d1ff",
   "metadata": {
    "scrolled": true
   },
   "outputs": [
    {
     "data": {
      "text/plain": [
       "[5, 6, 7, 8, 9, 10, 25, 6, 7, 7]"
      ]
     },
     "execution_count": 31,
     "metadata": {},
     "output_type": "execute_result"
    }
   ],
   "source": [
    "m"
   ]
  },
  {
   "cell_type": "code",
   "execution_count": 38,
   "id": "f6a3060d",
   "metadata": {},
   "outputs": [],
   "source": [
    "l = [3,4,5,6,7,8,23,4,5,5]\n",
    "m = []\n",
    "\n",
    "for i in l:\n",
    "    if i >= 10:\n",
    "        m.append(i+2)"
   ]
  },
  {
   "cell_type": "code",
   "execution_count": 40,
   "id": "e0d46d7b",
   "metadata": {},
   "outputs": [
    {
     "data": {
      "text/plain": [
       "[25]"
      ]
     },
     "execution_count": 40,
     "metadata": {},
     "output_type": "execute_result"
    }
   ],
   "source": [
    "m"
   ]
  },
  {
   "cell_type": "code",
   "execution_count": 46,
   "id": "7fb74020",
   "metadata": {},
   "outputs": [
    {
     "name": "stdout",
     "output_type": "stream",
     "text": [
      "yes this data is lesser than 50\n"
     ]
    }
   ],
   "source": [
    "s = 10\n",
    "if s > 10:\n",
    "    print(\"yes it is lesser than 10\")\n",
    "elif s < 50:\n",
    "    print(\"yes this data is lesser than 50\")\n",
    "else :\n",
    "    print(\"none of the condition is true\")\n",
    "    "
   ]
  },
  {
   "cell_type": "code",
   "execution_count": 47,
   "id": "0aa6153c",
   "metadata": {},
   "outputs": [],
   "source": [
    "l = [3,4,5,6,7,8,23,4,5,5,\"anish\",\"tejwani\"]\n",
    "m = []\n",
    "\n",
    "for i in l:\n",
    "    if type(i) == str:\n",
    "        m.append(i)"
   ]
  },
  {
   "cell_type": "code",
   "execution_count": 48,
   "id": "c8a41bbc",
   "metadata": {},
   "outputs": [
    {
     "data": {
      "text/plain": [
       "['anish', 'tejwani']"
      ]
     },
     "execution_count": 48,
     "metadata": {},
     "output_type": "execute_result"
    }
   ],
   "source": [
    "m"
   ]
  },
  {
   "cell_type": "code",
   "execution_count": 51,
   "id": "066d2fbf",
   "metadata": {},
   "outputs": [
    {
     "name": "stdout",
     "output_type": "stream",
     "text": [
      "5\n",
      "6\n",
      "7\n",
      "8\n",
      "9\n",
      "23\n",
      "45\n",
      "nothing is left in my collection\n"
     ]
    }
   ],
   "source": [
    "l = [5, 6, 7, 8, 9, 23, 45]\n",
    "for i in l:\n",
    "    print(i)\n",
    "else:\n",
    "    print(\"nothing is left in my collection\")"
   ]
  },
  {
   "cell_type": "code",
   "execution_count": 54,
   "id": "65bbd6f2",
   "metadata": {},
   "outputs": [
    {
     "name": "stdout",
     "output_type": "stream",
     "text": [
      "1\n",
      "3\n",
      "6\n",
      "10\n",
      "15\n",
      "21\n",
      "28\n",
      "36\n",
      "45\n",
      "55\n",
      "55\n"
     ]
    }
   ],
   "source": [
    "d = 10\n",
    "s = 0\n",
    "i = 1\n",
    "\n",
    "while i <= d:\n",
    "    s = s+i\n",
    "    i += 1\n",
    "    print(s)\n",
    "print(s)"
   ]
  },
  {
   "cell_type": "code",
   "execution_count": 56,
   "id": "0f256a68",
   "metadata": {},
   "outputs": [
    {
     "name": "stdout",
     "output_type": "stream",
     "text": [
      "a\n",
      "n\n",
      "i\n",
      "s\n",
      "h\n"
     ]
    }
   ],
   "source": [
    "for x in \"anish\":\n",
    "    print(x)"
   ]
  },
  {
   "cell_type": "code",
   "execution_count": 64,
   "id": "b9c11e5b",
   "metadata": {},
   "outputs": [
    {
     "name": "stdout",
     "output_type": "stream",
     "text": [
      "a\n",
      "n\n",
      "i\n",
      "out of loop\n"
     ]
    }
   ],
   "source": [
    "for x in \"anish\":\n",
    "    if x == 's':\n",
    "        break\n",
    "    print(x)\n",
    "else :      # else will execute only if the for loop is totally executed\n",
    "    print(\"i am able to complete iteration\")\n",
    "print(\"out of loop\")"
   ]
  },
  {
   "cell_type": "code",
   "execution_count": 66,
   "id": "cd9dac15",
   "metadata": {},
   "outputs": [
    {
     "name": "stdout",
     "output_type": "stream",
     "text": [
      "a\n",
      "n\n",
      "i\n",
      "s\n",
      "h\n",
      "i am able to complete iteration\n",
      "out of loop\n"
     ]
    }
   ],
   "source": [
    "for x in \"anish\":\n",
    "    if x == 'd':\n",
    "        break\n",
    "    print(x)\n",
    "else :      # else will execute only if the for loop is totally executed\n",
    "    print(\"i am able to complete iteration\")\n",
    "print(\"out of loop\")"
   ]
  },
  {
   "cell_type": "code",
   "execution_count": 70,
   "id": "a0014ee7",
   "metadata": {},
   "outputs": [
    {
     "name": "stdout",
     "output_type": "stream",
     "text": [
      "a\n",
      "n\n",
      "s\n",
      "h\n"
     ]
    }
   ],
   "source": [
    "for i in \"anish\":\n",
    "    if i == \"i\":\n",
    "        continue\n",
    "    print(i)"
   ]
  },
  {
   "cell_type": "code",
   "execution_count": 92,
   "id": "644546eb",
   "metadata": {},
   "outputs": [
    {
     "name": "stdout",
     "output_type": "stream",
     "text": [
      "Anish\n"
     ]
    },
    {
     "data": {
      "text/plain": [
       "'Anish'"
      ]
     },
     "execution_count": 92,
     "metadata": {},
     "output_type": "execute_result"
    }
   ],
   "source": [
    "input() # treats everything as a String"
   ]
  },
  {
   "cell_type": "code",
   "execution_count": 91,
   "id": "a3d31ac6",
   "metadata": {},
   "outputs": [
    {
     "name": "stdout",
     "output_type": "stream",
     "text": [
      "5342\n"
     ]
    },
    {
     "data": {
      "text/plain": [
       "int"
      ]
     },
     "execution_count": 91,
     "metadata": {},
     "output_type": "execute_result"
    }
   ],
   "source": [
    "a = input() # treats everything as a String\n",
    "b = int(a)\n",
    "type(b)"
   ]
  },
  {
   "cell_type": "code",
   "execution_count": null,
   "id": "d2724c3b",
   "metadata": {},
   "outputs": [],
   "source": [
    "a = input()\n",
    "l = [1, 2, 3, 4, 5, 6, 7, 5, 5, 6, 7, 8, 9, 9]\n",
    "m = []\n",
    "\n",
    "for i in l:\n",
    "    if i == a:\n",
    "        m.append(i)"
   ]
  },
  {
   "cell_type": "code",
   "execution_count": null,
   "id": "fb978016",
   "metadata": {},
   "outputs": [],
   "source": []
  }
 ],
 "metadata": {
  "kernelspec": {
   "display_name": "Python 3 (ipykernel)",
   "language": "python",
   "name": "python3"
  },
  "language_info": {
   "codemirror_mode": {
    "name": "ipython",
    "version": 3
   },
   "file_extension": ".py",
   "mimetype": "text/x-python",
   "name": "python",
   "nbconvert_exporter": "python",
   "pygments_lexer": "ipython3",
   "version": "3.11.3"
  }
 },
 "nbformat": 4,
 "nbformat_minor": 5
}
