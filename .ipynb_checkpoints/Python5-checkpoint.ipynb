{
 "cells": [
  {
   "cell_type": "code",
   "execution_count": null,
   "id": "162bd67f",
   "metadata": {},
   "outputs": [],
   "source": [
    " #Exception Handling"
   ]
  },
  {
   "cell_type": "code",
   "execution_count": 2,
   "id": "42542ec1",
   "metadata": {},
   "outputs": [
    {
     "name": "stdout",
     "output_type": "stream",
     "text": [
      "45\n"
     ]
    },
    {
     "data": {
      "text/plain": [
       "0.1111111111111111"
      ]
     },
     "execution_count": 2,
     "metadata": {},
     "output_type": "execute_result"
    }
   ],
   "source": [
    "a = int(input())\n",
    "5/a"
   ]
  },
  {
   "cell_type": "code",
   "execution_count": 4,
   "id": "f0d60c16",
   "metadata": {},
   "outputs": [
    {
     "data": {
      "text/plain": [
       "21"
      ]
     },
     "execution_count": 4,
     "metadata": {},
     "output_type": "execute_result"
    }
   ],
   "source": [
    "f = open(\"xyz.txt\", \"w\")\n",
    "f.write(\"this is Anish tejwani\")"
   ]
  },
  {
   "cell_type": "code",
   "execution_count": 5,
   "id": "43ceb2a6",
   "metadata": {},
   "outputs": [],
   "source": [
    "a = open(\"xyz.txt\")"
   ]
  },
  {
   "cell_type": "code",
   "execution_count": null,
   "id": "729e0ba0",
   "metadata": {},
   "outputs": [],
   "source": []
  }
 ],
 "metadata": {
  "kernelspec": {
   "display_name": "Python 3 (ipykernel)",
   "language": "python",
   "name": "python3"
  },
  "language_info": {
   "codemirror_mode": {
    "name": "ipython",
    "version": 3
   },
   "file_extension": ".py",
   "mimetype": "text/x-python",
   "name": "python",
   "nbconvert_exporter": "python",
   "pygments_lexer": "ipython3",
   "version": "3.11.3"
  }
 },
 "nbformat": 4,
 "nbformat_minor": 5
}
