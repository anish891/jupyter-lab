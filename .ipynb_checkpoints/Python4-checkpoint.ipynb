{
 "cells": [
  {
   "cell_type": "code",
   "execution_count": 1,
   "id": "286887e8",
   "metadata": {},
   "outputs": [],
   "source": [
    "# Object Oriented Programming"
   ]
  },
  {
   "cell_type": "code",
   "execution_count": null,
   "id": "ca2f3694",
   "metadata": {},
   "outputs": [],
   "source": [
    "# Class - Classification of a real-world entity"
   ]
  },
  {
   "cell_type": "code",
   "execution_count": null,
   "id": "90b0bc8f",
   "metadata": {},
   "outputs": [],
   "source": [
    "# Object - instance of a class which hold data"
   ]
  },
  {
   "cell_type": "code",
   "execution_count": 3,
   "id": "c3a48c14",
   "metadata": {},
   "outputs": [],
   "source": [
    "def test():\n",
    "    pass      #Used when there is no body of function"
   ]
  },
  {
   "cell_type": "code",
   "execution_count": 4,
   "id": "c62d364b",
   "metadata": {},
   "outputs": [],
   "source": [
    "class test:\n",
    "    pass      #Used when there is no body of function"
   ]
  },
  {
   "cell_type": "code",
   "execution_count": 5,
   "id": "015ae8d9",
   "metadata": {},
   "outputs": [],
   "source": [
    "class person:\n",
    "    pass"
   ]
  },
  {
   "cell_type": "code",
   "execution_count": 6,
   "id": "4d8d8797",
   "metadata": {},
   "outputs": [],
   "source": [
    "p = person"
   ]
  },
  {
   "cell_type": "code",
   "execution_count": 7,
   "id": "1ca9862a",
   "metadata": {},
   "outputs": [
    {
     "data": {
      "text/plain": [
       "__main__.person"
      ]
     },
     "execution_count": 7,
     "metadata": {},
     "output_type": "execute_result"
    }
   ],
   "source": [
    "p"
   ]
  },
  {
   "cell_type": "code",
   "execution_count": 10,
   "id": "4e79460f",
   "metadata": {
    "scrolled": true
   },
   "outputs": [
    {
     "data": {
      "text/plain": [
       "type"
      ]
     },
     "execution_count": 10,
     "metadata": {},
     "output_type": "execute_result"
    }
   ],
   "source": [
    "type(p)"
   ]
  },
  {
   "cell_type": "code",
   "execution_count": 11,
   "id": "d4d00fdb",
   "metadata": {},
   "outputs": [
    {
     "name": "stdout",
     "output_type": "stream",
     "text": [
      "<class '__main__.person'>\n"
     ]
    }
   ],
   "source": [
    "print(p)"
   ]
  },
  {
   "cell_type": "code",
   "execution_count": 11,
   "id": "b9c79a67",
   "metadata": {},
   "outputs": [],
   "source": [
    "p.name = \"anish\"\n",
    "p.surname = \"tejwani\"\n",
    "p.yob = 270802"
   ]
  },
  {
   "cell_type": "code",
   "execution_count": 12,
   "id": "f37f7910",
   "metadata": {},
   "outputs": [],
   "source": [
    "a = person   # p and a are variable of person class"
   ]
  },
  {
   "cell_type": "code",
   "execution_count": 13,
   "id": "0677fba2",
   "metadata": {},
   "outputs": [],
   "source": [
    "a.name = \"abc\"\n",
    "a.yob = 231842\n",
    "a.empno = 4325840"
   ]
  },
  {
   "cell_type": "code",
   "execution_count": 14,
   "id": "938262dc",
   "metadata": {},
   "outputs": [
    {
     "data": {
      "text/plain": [
       "'anish'"
      ]
     },
     "execution_count": 14,
     "metadata": {},
     "output_type": "execute_result"
    }
   ],
   "source": [
    "p.name  # Bad approach for creating objects and classes"
   ]
  },
  {
   "cell_type": "code",
   "execution_count": 15,
   "id": "c4f9c4c7",
   "metadata": {},
   "outputs": [
    {
     "data": {
      "text/plain": [
       "'tejwani'"
      ]
     },
     "execution_count": 15,
     "metadata": {},
     "output_type": "execute_result"
    }
   ],
   "source": [
    "p.surname"
   ]
  },
  {
   "cell_type": "code",
   "execution_count": 16,
   "id": "ed977537",
   "metadata": {},
   "outputs": [
    {
     "data": {
      "text/plain": [
       "270802"
      ]
     },
     "execution_count": 16,
     "metadata": {},
     "output_type": "execute_result"
    }
   ],
   "source": [
    "p.yob"
   ]
  },
  {
   "cell_type": "code",
   "execution_count": 17,
   "id": "681ba27f",
   "metadata": {},
   "outputs": [
    {
     "data": {
      "text/plain": [
       "'abc'"
      ]
     },
     "execution_count": 17,
     "metadata": {},
     "output_type": "execute_result"
    }
   ],
   "source": [
    "a.name"
   ]
  },
  {
   "cell_type": "code",
   "execution_count": 18,
   "id": "1675a025",
   "metadata": {
    "scrolled": true
   },
   "outputs": [
    {
     "ename": "AttributeError",
     "evalue": "type object 'person' has no attribute 'surname'",
     "output_type": "error",
     "traceback": [
      "\u001b[1;31m---------------------------------------------------------------------------\u001b[0m",
      "\u001b[1;31mAttributeError\u001b[0m                            Traceback (most recent call last)",
      "Cell \u001b[1;32mIn[18], line 1\u001b[0m\n\u001b[1;32m----> 1\u001b[0m a\u001b[38;5;241m.\u001b[39msurname\n",
      "\u001b[1;31mAttributeError\u001b[0m: type object 'person' has no attribute 'surname'"
     ]
    }
   ],
   "source": [
    "a.surname"
   ]
  },
  {
   "cell_type": "code",
   "execution_count": 23,
   "id": "b7d24b86",
   "metadata": {},
   "outputs": [
    {
     "data": {
      "text/plain": [
       "str"
      ]
     },
     "execution_count": 23,
     "metadata": {},
     "output_type": "execute_result"
    }
   ],
   "source": [
    "type(p.name)"
   ]
  },
  {
   "cell_type": "code",
   "execution_count": null,
   "id": "74153483",
   "metadata": {},
   "outputs": [],
   "source": []
  },
  {
   "cell_type": "code",
   "execution_count": null,
   "id": "5956adcf",
   "metadata": {},
   "outputs": [],
   "source": []
  },
  {
   "cell_type": "code",
   "execution_count": 20,
   "id": "f2e2041b",
   "metadata": {},
   "outputs": [],
   "source": [
    "class person:\n",
    "    def __init__(self,name,surname,yob):  # method in a class  #init is for initilisation\n",
    "        self.name = name\n",
    "        self.surname = surname\n",
    "        self.yob = yob"
   ]
  },
  {
   "cell_type": "code",
   "execution_count": 21,
   "id": "83360bc8",
   "metadata": {},
   "outputs": [
    {
     "name": "stdout",
     "output_type": "stream",
     "text": [
      "<__main__.person object at 0x0000022EE5015D90>\n"
     ]
    }
   ],
   "source": [
    "p = person(\"anish\", \"tejwani\", 270802)\n",
    "print(p)"
   ]
  },
  {
   "cell_type": "code",
   "execution_count": 22,
   "id": "c54ff912",
   "metadata": {},
   "outputs": [],
   "source": [
    "s = person(\"abc\", \"sfda\", 78045)"
   ]
  },
  {
   "cell_type": "code",
   "execution_count": 23,
   "id": "a81daacd",
   "metadata": {},
   "outputs": [
    {
     "data": {
      "text/plain": [
       "'abc'"
      ]
     },
     "execution_count": 23,
     "metadata": {},
     "output_type": "execute_result"
    }
   ],
   "source": [
    "s.name\n"
   ]
  },
  {
   "cell_type": "code",
   "execution_count": 24,
   "id": "2084e7bf",
   "metadata": {},
   "outputs": [
    {
     "data": {
      "text/plain": [
       "'anish'"
      ]
     },
     "execution_count": 24,
     "metadata": {},
     "output_type": "execute_result"
    }
   ],
   "source": [
    "p.name"
   ]
  },
  {
   "cell_type": "code",
   "execution_count": 25,
   "id": "a7843bbd",
   "metadata": {},
   "outputs": [
    {
     "data": {
      "text/plain": [
       "'abc'"
      ]
     },
     "execution_count": 25,
     "metadata": {},
     "output_type": "execute_result"
    }
   ],
   "source": [
    "s.name"
   ]
  },
  {
   "cell_type": "code",
   "execution_count": null,
   "id": "a3d23eff",
   "metadata": {},
   "outputs": [],
   "source": []
  },
  {
   "cell_type": "code",
   "execution_count": 28,
   "id": "bee68cc4",
   "metadata": {},
   "outputs": [],
   "source": [
    "class person:\n",
    "    def __init__(self,name,surname,yob):\n",
    "        self.name = name\n",
    "        self.surname = surname\n",
    "        self.yob = yob\n",
    "    def test(self,n,m):\n",
    "        return n+m+self.yob\n",
    "    def __str__(self):\n",
    "        return \"%s is first name its surname is %s and year of birth is %d\" %(self.name,self.surname,self.yob)"
   ]
  },
  {
   "cell_type": "code",
   "execution_count": 29,
   "id": "e1b060ac",
   "metadata": {
    "scrolled": true
   },
   "outputs": [],
   "source": [
    "p = person(\"anish\",\"tejwani\",34)"
   ]
  },
  {
   "cell_type": "code",
   "execution_count": 30,
   "id": "82cc39d9",
   "metadata": {},
   "outputs": [
    {
     "data": {
      "text/plain": [
       "'anish'"
      ]
     },
     "execution_count": 30,
     "metadata": {},
     "output_type": "execute_result"
    }
   ],
   "source": [
    "p.name"
   ]
  },
  {
   "cell_type": "code",
   "execution_count": 17,
   "id": "1446d1bf",
   "metadata": {},
   "outputs": [
    {
     "data": {
      "text/plain": [
       "92"
      ]
     },
     "execution_count": 17,
     "metadata": {},
     "output_type": "execute_result"
    }
   ],
   "source": [
    "p.test(34,24)           #It is a class method which has to be called through class object"
   ]
  },
  {
   "cell_type": "code",
   "execution_count": 18,
   "id": "7d1f54de",
   "metadata": {},
   "outputs": [],
   "source": [
    "s = person(\"fsds\",\"fdsf\",2342)"
   ]
  },
  {
   "cell_type": "code",
   "execution_count": 19,
   "id": "ed181d72",
   "metadata": {},
   "outputs": [
    {
     "data": {
      "text/plain": [
       "2407"
      ]
     },
     "execution_count": 19,
     "metadata": {},
     "output_type": "execute_result"
    }
   ],
   "source": [
    "s.test(23,42)"
   ]
  },
  {
   "cell_type": "code",
   "execution_count": 20,
   "id": "f75a8a86",
   "metadata": {},
   "outputs": [
    {
     "name": "stdout",
     "output_type": "stream",
     "text": [
      "<__main__.person object at 0x0000026939BCE650>\n"
     ]
    }
   ],
   "source": [
    "print(p)"
   ]
  },
  {
   "cell_type": "code",
   "execution_count": 31,
   "id": "0f6e9dec",
   "metadata": {},
   "outputs": [
    {
     "name": "stdout",
     "output_type": "stream",
     "text": [
      "anish is first name its surname is tejwani and year of birth is 34\n"
     ]
    }
   ],
   "source": [
    "print(p)"
   ]
  },
  {
   "cell_type": "code",
   "execution_count": null,
   "id": "49e73760",
   "metadata": {},
   "outputs": [],
   "source": []
  }
 ],
 "metadata": {
  "kernelspec": {
   "display_name": "Python 3 (ipykernel)",
   "language": "python",
   "name": "python3"
  },
  "language_info": {
   "codemirror_mode": {
    "name": "ipython",
    "version": 3
   },
   "file_extension": ".py",
   "mimetype": "text/x-python",
   "name": "python",
   "nbconvert_exporter": "python",
   "pygments_lexer": "ipython3",
   "version": "3.11.3"
  }
 },
 "nbformat": 4,
 "nbformat_minor": 5
}
