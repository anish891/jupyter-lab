{
 "cells": [
  {
   "cell_type": "code",
   "execution_count": 2,
   "id": "f894900c",
   "metadata": {},
   "outputs": [],
   "source": [
    "s = \"anish\""
   ]
  },
  {
   "cell_type": "code",
   "execution_count": 5,
   "id": "4f49eda7",
   "metadata": {},
   "outputs": [
    {
     "data": {
      "text/plain": [
       "'anish1'"
      ]
     },
     "execution_count": 5,
     "metadata": {},
     "output_type": "execute_result"
    }
   ],
   "source": [
    "s + str(1)"
   ]
  },
  {
   "cell_type": "code",
   "execution_count": 7,
   "id": "16e110b5",
   "metadata": {},
   "outputs": [
    {
     "data": {
      "text/plain": [
       "'anishanishanishanishanishanishanishanishanishanish'"
      ]
     },
     "execution_count": 7,
     "metadata": {},
     "output_type": "execute_result"
    }
   ],
   "source": [
    "s*10"
   ]
  },
  {
   "cell_type": "code",
   "execution_count": 8,
   "id": "1f202f6b",
   "metadata": {},
   "outputs": [
    {
     "data": {
      "text/plain": [
       "[1, 2, 3, 4, 'anan', 1, 2, 3, 4, 'anan', 1, 2, 3, 4, 'anan']"
      ]
     },
     "execution_count": 8,
     "metadata": {},
     "output_type": "execute_result"
    }
   ],
   "source": [
    "[1, 2, 3, 4, 'anan']*3"
   ]
  },
  {
   "cell_type": "code",
   "execution_count": 12,
   "id": "52e703c0",
   "metadata": {},
   "outputs": [
    {
     "data": {
      "text/plain": [
       "'ANISH'"
      ]
     },
     "execution_count": 12,
     "metadata": {},
     "output_type": "execute_result"
    }
   ],
   "source": [
    "s.upper()"
   ]
  },
  {
   "cell_type": "code",
   "execution_count": 14,
   "id": "5eb739e8",
   "metadata": {},
   "outputs": [],
   "source": [
    "a = \"ANish\""
   ]
  },
  {
   "cell_type": "code",
   "execution_count": 15,
   "id": "80438fe6",
   "metadata": {},
   "outputs": [
    {
     "data": {
      "text/plain": [
       "'anish'"
      ]
     },
     "execution_count": 15,
     "metadata": {},
     "output_type": "execute_result"
    }
   ],
   "source": [
    "a.lower()"
   ]
  },
  {
   "cell_type": "code",
   "execution_count": 16,
   "id": "bc3ceeec",
   "metadata": {},
   "outputs": [],
   "source": [
    "a = \"my name is anish tejwani\""
   ]
  },
  {
   "cell_type": "code",
   "execution_count": 17,
   "id": "08bf545e",
   "metadata": {},
   "outputs": [
    {
     "data": {
      "text/plain": [
       "['my', 'name', 'is', 'anish', 'tejwani']"
      ]
     },
     "execution_count": 17,
     "metadata": {},
     "output_type": "execute_result"
    }
   ],
   "source": [
    "a.split()"
   ]
  },
  {
   "cell_type": "code",
   "execution_count": 18,
   "id": "b5d48afa",
   "metadata": {},
   "outputs": [],
   "source": [
    "a = \"my@name@is@anish@tejwani\""
   ]
  },
  {
   "cell_type": "code",
   "execution_count": 19,
   "id": "a0f734d1",
   "metadata": {},
   "outputs": [
    {
     "data": {
      "text/plain": [
       "['my', 'name', 'is', 'anish', 'tejwani']"
      ]
     },
     "execution_count": 19,
     "metadata": {},
     "output_type": "execute_result"
    }
   ],
   "source": [
    "a.split('@')"
   ]
  },
  {
   "cell_type": "code",
   "execution_count": 20,
   "id": "8ccc047a",
   "metadata": {},
   "outputs": [],
   "source": [
    "a = \"my name is anish tejwani\""
   ]
  },
  {
   "cell_type": "code",
   "execution_count": 21,
   "id": "1981f92f",
   "metadata": {},
   "outputs": [
    {
     "data": {
      "text/plain": [
       "['my n', 'me is ', 'nish tejw', 'ni']"
      ]
     },
     "execution_count": 21,
     "metadata": {},
     "output_type": "execute_result"
    }
   ],
   "source": [
    "a.split('a')      # it is also case sensitive\n",
    "# the delimiter is not a part of the final dataset\n",
    "# always returns a list"
   ]
  },
  {
   "cell_type": "code",
   "execution_count": 22,
   "id": "3dc93909",
   "metadata": {},
   "outputs": [],
   "source": [
    "a = \"my name is anish tejwani\""
   ]
  },
  {
   "cell_type": "code",
   "execution_count": 27,
   "id": "a2d929be",
   "metadata": {},
   "outputs": [
    {
     "data": {
      "text/plain": [
       "('my nam', 'e', ' is anish tejwani')"
      ]
     },
     "execution_count": 27,
     "metadata": {},
     "output_type": "execute_result"
    }
   ],
   "source": [
    "a.partition('e')    # there is no default value in this function\n",
    "# the delimiter is a part of the final dataset\n",
    "# partitions on the basis pf first occurrence of the delimiter\n",
    "# gives only 3 output \n",
    "# always returns a tuple"
   ]
  },
  {
   "cell_type": "code",
   "execution_count": 28,
   "id": "c6ec70d0",
   "metadata": {},
   "outputs": [],
   "source": [
    "d = \"bdf,ajfeqnfcbkzjnvjbvnszvnl\""
   ]
  },
  {
   "cell_type": "code",
   "execution_count": 31,
   "id": "fb66205c",
   "metadata": {},
   "outputs": [
    {
     "data": {
      "text/plain": [
       "4"
      ]
     },
     "execution_count": 31,
     "metadata": {},
     "output_type": "execute_result"
    }
   ],
   "source": [
    "d.find('a')    #gives index of first occurence"
   ]
  },
  {
   "cell_type": "code",
   "execution_count": 33,
   "id": "1eb56626",
   "metadata": {},
   "outputs": [],
   "source": [
    "f = \"anish\""
   ]
  },
  {
   "cell_type": "code",
   "execution_count": 35,
   "id": "649428fd",
   "metadata": {},
   "outputs": [
    {
     "data": {
      "text/plain": [
       "'vvvvvvvvvvvvvvvvvvvvvvanishvvvvvvvvvvvvvvvvvvvvvvv'"
      ]
     },
     "execution_count": 35,
     "metadata": {},
     "output_type": "execute_result"
    }
   ],
   "source": [
    "f.center(50, \"v\")"
   ]
  },
  {
   "cell_type": "code",
   "execution_count": 36,
   "id": "ead989c8",
   "metadata": {},
   "outputs": [
    {
     "data": {
      "text/plain": [
       "['anish', 'tejwani']"
      ]
     },
     "execution_count": 36,
     "metadata": {},
     "output_type": "execute_result"
    }
   ],
   "source": [
    "'anish\\ttejwani'.split()"
   ]
  },
  {
   "cell_type": "code",
   "execution_count": 37,
   "id": "4c60038f",
   "metadata": {},
   "outputs": [
    {
     "data": {
      "text/plain": [
       "'anish   tejwani'"
      ]
     },
     "execution_count": 37,
     "metadata": {},
     "output_type": "execute_result"
    }
   ],
   "source": [
    "'anish\\ttejwani'.expandtabs()"
   ]
  },
  {
   "cell_type": "code",
   "execution_count": 38,
   "id": "45583096",
   "metadata": {},
   "outputs": [
    {
     "data": {
      "text/plain": [
       "'my name is anish tejwani'"
      ]
     },
     "execution_count": 38,
     "metadata": {},
     "output_type": "execute_result"
    }
   ],
   "source": [
    "'my name is {} tejwani'.format('anish')"
   ]
  },
  {
   "cell_type": "code",
   "execution_count": 42,
   "id": "b451d3ac",
   "metadata": {},
   "outputs": [
    {
     "name": "stdout",
     "output_type": "stream",
     "text": [
      "please give your first name anish\n",
      "please give your last name tejwani\n"
     ]
    },
    {
     "data": {
      "text/plain": [
       "'my name is anish tejwani'"
      ]
     },
     "execution_count": 42,
     "metadata": {},
     "output_type": "execute_result"
    }
   ],
   "source": [
    "a = input(\"please give your first name \")\n",
    "b = input(\"please give your last name \")\n",
    "\n",
    "'my name is {} {}'.format(a, b)"
   ]
  },
  {
   "cell_type": "code",
   "execution_count": 43,
   "id": "535b9dd1",
   "metadata": {},
   "outputs": [],
   "source": [
    "s = \"hello\""
   ]
  },
  {
   "cell_type": "code",
   "execution_count": 45,
   "id": "3d5fbfb3",
   "metadata": {},
   "outputs": [
    {
     "data": {
      "text/plain": [
       "True"
      ]
     },
     "execution_count": 45,
     "metadata": {},
     "output_type": "execute_result"
    }
   ],
   "source": [
    "s.isalnum()"
   ]
  },
  {
   "cell_type": "code",
   "execution_count": 46,
   "id": "10879eac",
   "metadata": {},
   "outputs": [
    {
     "data": {
      "text/plain": [
       "True"
      ]
     },
     "execution_count": 46,
     "metadata": {},
     "output_type": "execute_result"
    }
   ],
   "source": [
    "s.isalpha()"
   ]
  },
  {
   "cell_type": "code",
   "execution_count": 47,
   "id": "13b52912",
   "metadata": {},
   "outputs": [
    {
     "data": {
      "text/plain": [
       "False"
      ]
     },
     "execution_count": 47,
     "metadata": {},
     "output_type": "execute_result"
    }
   ],
   "source": [
    "s.isupper()"
   ]
  },
  {
   "cell_type": "code",
   "execution_count": 48,
   "id": "9b65f782",
   "metadata": {},
   "outputs": [
    {
     "data": {
      "text/plain": [
       "False"
      ]
     },
     "execution_count": 48,
     "metadata": {},
     "output_type": "execute_result"
    }
   ],
   "source": [
    "s.istitle()"
   ]
  },
  {
   "cell_type": "code",
   "execution_count": 49,
   "id": "e600905a",
   "metadata": {},
   "outputs": [
    {
     "data": {
      "text/plain": [
       "False"
      ]
     },
     "execution_count": 49,
     "metadata": {},
     "output_type": "execute_result"
    }
   ],
   "source": [
    "s.endswith('e')"
   ]
  },
  {
   "cell_type": "code",
   "execution_count": 51,
   "id": "30ac9256",
   "metadata": {},
   "outputs": [
    {
     "data": {
      "text/plain": [
       "5"
      ]
     },
     "execution_count": 51,
     "metadata": {},
     "output_type": "execute_result"
    }
   ],
   "source": [
    "len(s)"
   ]
  },
  {
   "cell_type": "code",
   "execution_count": 53,
   "id": "eaecf920",
   "metadata": {},
   "outputs": [
    {
     "name": "stdout",
     "output_type": "stream",
     "text": [
      "hello\n"
     ]
    }
   ],
   "source": [
    "print(s)"
   ]
  },
  {
   "cell_type": "code",
   "execution_count": 54,
   "id": "71f277e7",
   "metadata": {},
   "outputs": [
    {
     "data": {
      "text/plain": [
       "'hello'"
      ]
     },
     "execution_count": 54,
     "metadata": {},
     "output_type": "execute_result"
    }
   ],
   "source": [
    "s"
   ]
  },
  {
   "cell_type": "code",
   "execution_count": 60,
   "id": "0a394b6c",
   "metadata": {},
   "outputs": [],
   "source": [
    "a = [1, 2, 3, 4, 5, \"Hello\", 4.56, [3, 4, 5]]\n",
    "b = [4, 5, 6, 7, \"my\", \"name\"]"
   ]
  },
  {
   "cell_type": "code",
   "execution_count": 58,
   "id": "3e42cfcc",
   "metadata": {},
   "outputs": [
    {
     "data": {
      "text/plain": [
       "[1, 2, 3, 4, 5, 'Hello', 4.56, [3, 4, 5]]"
      ]
     },
     "execution_count": 58,
     "metadata": {},
     "output_type": "execute_result"
    }
   ],
   "source": [
    "m = []\n",
    "for i in a :\n",
    "    m.append(i)\n",
    "m"
   ]
  },
  {
   "cell_type": "code",
   "execution_count": 61,
   "id": "6895e297",
   "metadata": {},
   "outputs": [
    {
     "data": {
      "text/plain": [
       "[1, 2, 3, 4, 5, 'Hello', 4.56, [3, 4, 5], 4, 5, 6, 7, 'my', 'name']"
      ]
     },
     "execution_count": 61,
     "metadata": {},
     "output_type": "execute_result"
    }
   ],
   "source": [
    "a + b"
   ]
  },
  {
   "cell_type": "code",
   "execution_count": 63,
   "id": "739b024f",
   "metadata": {},
   "outputs": [
    {
     "data": {
      "text/plain": [
       "[1, 2, 3, 4, 5, 'Hello', 4.56, [3, 4, 5], 4, 5, 6, 7, 'my', 'name']"
      ]
     },
     "execution_count": 63,
     "metadata": {},
     "output_type": "execute_result"
    }
   ],
   "source": [
    "(a +  b)*1"
   ]
  },
  {
   "cell_type": "code",
   "execution_count": 65,
   "id": "9d07a51b",
   "metadata": {},
   "outputs": [
    {
     "data": {
      "text/plain": [
       "[4, 5, 6, 7, 'my', 'name', 'a', 'n', 'i', 's', 'h']"
      ]
     },
     "execution_count": 65,
     "metadata": {},
     "output_type": "execute_result"
    }
   ],
   "source": [
    "b + list(\"anish\")    #list always takes an iterable object"
   ]
  },
  {
   "cell_type": "code",
   "execution_count": null,
   "id": "25a975cb",
   "metadata": {},
   "outputs": [],
   "source": []
  }
 ],
 "metadata": {
  "kernelspec": {
   "display_name": "Python 3 (ipykernel)",
   "language": "python",
   "name": "python3"
  },
  "language_info": {
   "codemirror_mode": {
    "name": "ipython",
    "version": 3
   },
   "file_extension": ".py",
   "mimetype": "text/x-python",
   "name": "python",
   "nbconvert_exporter": "python",
   "pygments_lexer": "ipython3",
   "version": "3.11.3"
  }
 },
 "nbformat": 4,
 "nbformat_minor": 5
}
