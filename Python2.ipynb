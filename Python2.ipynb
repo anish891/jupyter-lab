{
 "cells": [
  {
   "cell_type": "code",
   "execution_count": 2,
   "id": "19514337",
   "metadata": {},
   "outputs": [],
   "source": [
    "s = \"anish\""
   ]
  },
  {
   "cell_type": "code",
   "execution_count": 5,
   "id": "a7890176",
   "metadata": {},
   "outputs": [
    {
     "data": {
      "text/plain": [
       "'anish1'"
      ]
     },
     "execution_count": 5,
     "metadata": {},
     "output_type": "execute_result"
    }
   ],
   "source": [
    "s + str(1)"
   ]
  },
  {
   "cell_type": "code",
   "execution_count": 7,
   "id": "1a77529e",
   "metadata": {},
   "outputs": [
    {
     "data": {
      "text/plain": [
       "'anishanishanishanishanishanishanishanishanishanish'"
      ]
     },
     "execution_count": 7,
     "metadata": {},
     "output_type": "execute_result"
    }
   ],
   "source": [
    "s*10"
   ]
  },
  {
   "cell_type": "code",
   "execution_count": 8,
   "id": "be47d786",
   "metadata": {},
   "outputs": [
    {
     "data": {
      "text/plain": [
       "[1, 2, 3, 4, 'anan', 1, 2, 3, 4, 'anan', 1, 2, 3, 4, 'anan']"
      ]
     },
     "execution_count": 8,
     "metadata": {},
     "output_type": "execute_result"
    }
   ],
   "source": [
    "[1, 2, 3, 4, 'anan']*3"
   ]
  },
  {
   "cell_type": "code",
   "execution_count": 12,
   "id": "8307479b",
   "metadata": {},
   "outputs": [
    {
     "data": {
      "text/plain": [
       "'ANISH'"
      ]
     },
     "execution_count": 12,
     "metadata": {},
     "output_type": "execute_result"
    }
   ],
   "source": [
    "s.upper()"
   ]
  },
  {
   "cell_type": "code",
   "execution_count": 14,
   "id": "9ff9ee47",
   "metadata": {},
   "outputs": [],
   "source": [
    "a = \"ANish\""
   ]
  },
  {
   "cell_type": "code",
   "execution_count": 15,
   "id": "b97aff9d",
   "metadata": {},
   "outputs": [
    {
     "data": {
      "text/plain": [
       "'anish'"
      ]
     },
     "execution_count": 15,
     "metadata": {},
     "output_type": "execute_result"
    }
   ],
   "source": [
    "a.lower()"
   ]
  },
  {
   "cell_type": "code",
   "execution_count": 16,
   "id": "58215236",
   "metadata": {},
   "outputs": [],
   "source": [
    "a = \"my name is anish tejwani\""
   ]
  },
  {
   "cell_type": "code",
   "execution_count": 17,
   "id": "e1097620",
   "metadata": {},
   "outputs": [
    {
     "data": {
      "text/plain": [
       "['my', 'name', 'is', 'anish', 'tejwani']"
      ]
     },
     "execution_count": 17,
     "metadata": {},
     "output_type": "execute_result"
    }
   ],
   "source": [
    "a.split()"
   ]
  },
  {
   "cell_type": "code",
   "execution_count": 18,
   "id": "fcc474d7",
   "metadata": {},
   "outputs": [],
   "source": [
    "a = \"my@name@is@anish@tejwani\""
   ]
  },
  {
   "cell_type": "code",
   "execution_count": 19,
   "id": "6adefaa7",
   "metadata": {},
   "outputs": [
    {
     "data": {
      "text/plain": [
       "['my', 'name', 'is', 'anish', 'tejwani']"
      ]
     },
     "execution_count": 19,
     "metadata": {},
     "output_type": "execute_result"
    }
   ],
   "source": [
    "a.split('@')"
   ]
  },
  {
   "cell_type": "code",
   "execution_count": 20,
   "id": "5e850c0f",
   "metadata": {},
   "outputs": [],
   "source": [
    "a = \"my name is anish tejwani\""
   ]
  },
  {
   "cell_type": "code",
   "execution_count": 21,
   "id": "db757117",
   "metadata": {},
   "outputs": [
    {
     "data": {
      "text/plain": [
       "['my n', 'me is ', 'nish tejw', 'ni']"
      ]
     },
     "execution_count": 21,
     "metadata": {},
     "output_type": "execute_result"
    }
   ],
   "source": [
    "a.split('a')      # it is also case sensitive\n",
    "# the delimiter is not a part of the final dataset\n",
    "# always returns a list"
   ]
  },
  {
   "cell_type": "code",
   "execution_count": 22,
   "id": "a643b4ee",
   "metadata": {},
   "outputs": [],
   "source": [
    "a = \"my name is anish tejwani\""
   ]
  },
  {
   "cell_type": "code",
   "execution_count": 27,
   "id": "16d41256",
   "metadata": {},
   "outputs": [
    {
     "data": {
      "text/plain": [
       "('my nam', 'e', ' is anish tejwani')"
      ]
     },
     "execution_count": 27,
     "metadata": {},
     "output_type": "execute_result"
    }
   ],
   "source": [
    "a.partition('e')    # there is no default value in this function\n",
    "# the delimiter is a part of the final dataset\n",
    "# partitions on the basis pf first occurrence of the delimiter\n",
    "# gives only 3 output \n",
    "# always returns a tuple"
   ]
  },
  {
   "cell_type": "code",
   "execution_count": 28,
   "id": "782d479b",
   "metadata": {},
   "outputs": [],
   "source": [
    "d = \"bdf,ajfeqnfcbkzjnvjbvnszvnl\""
   ]
  },
  {
   "cell_type": "code",
   "execution_count": 31,
   "id": "fc10ff06",
   "metadata": {},
   "outputs": [
    {
     "data": {
      "text/plain": [
       "4"
      ]
     },
     "execution_count": 31,
     "metadata": {},
     "output_type": "execute_result"
    }
   ],
   "source": [
    "d.find('a')    #gives index of first occurence"
   ]
  },
  {
   "cell_type": "code",
   "execution_count": 33,
   "id": "26b315d8",
   "metadata": {},
   "outputs": [],
   "source": [
    "f = \"anish\""
   ]
  },
  {
   "cell_type": "code",
   "execution_count": 35,
   "id": "dda4267a",
   "metadata": {},
   "outputs": [
    {
     "data": {
      "text/plain": [
       "'vvvvvvvvvvvvvvvvvvvvvvanishvvvvvvvvvvvvvvvvvvvvvvv'"
      ]
     },
     "execution_count": 35,
     "metadata": {},
     "output_type": "execute_result"
    }
   ],
   "source": [
    "f.center(50, \"v\")"
   ]
  },
  {
   "cell_type": "code",
   "execution_count": 36,
   "id": "bc348303",
   "metadata": {},
   "outputs": [
    {
     "data": {
      "text/plain": [
       "['anish', 'tejwani']"
      ]
     },
     "execution_count": 36,
     "metadata": {},
     "output_type": "execute_result"
    }
   ],
   "source": [
    "'anish\\ttejwani'.split()"
   ]
  },
  {
   "cell_type": "code",
   "execution_count": 37,
   "id": "50272680",
   "metadata": {},
   "outputs": [
    {
     "data": {
      "text/plain": [
       "'anish   tejwani'"
      ]
     },
     "execution_count": 37,
     "metadata": {},
     "output_type": "execute_result"
    }
   ],
   "source": [
    "'anish\\ttejwani'.expandtabs()"
   ]
  },
  {
   "cell_type": "code",
   "execution_count": 38,
   "id": "9f6c446b",
   "metadata": {},
   "outputs": [
    {
     "data": {
      "text/plain": [
       "'my name is anish tejwani'"
      ]
     },
     "execution_count": 38,
     "metadata": {},
     "output_type": "execute_result"
    }
   ],
   "source": [
    "'my name is {} tejwani'.format('anish')"
   ]
  },
  {
   "cell_type": "code",
   "execution_count": 42,
   "id": "f03c7357",
   "metadata": {},
   "outputs": [
    {
     "name": "stdout",
     "output_type": "stream",
     "text": [
      "please give your first name anish\n",
      "please give your last name tejwani\n"
     ]
    },
    {
     "data": {
      "text/plain": [
       "'my name is anish tejwani'"
      ]
     },
     "execution_count": 42,
     "metadata": {},
     "output_type": "execute_result"
    }
   ],
   "source": [
    "a = input(\"please give your first name \")\n",
    "b = input(\"please give your last name \")\n",
    "\n",
    "'my name is {} {}'.format(a, b)"
   ]
  },
  {
   "cell_type": "code",
   "execution_count": 43,
   "id": "ed85eb5d",
   "metadata": {},
   "outputs": [],
   "source": [
    "s = \"hello\""
   ]
  },
  {
   "cell_type": "code",
   "execution_count": 45,
   "id": "242c6b4a",
   "metadata": {},
   "outputs": [
    {
     "data": {
      "text/plain": [
       "True"
      ]
     },
     "execution_count": 45,
     "metadata": {},
     "output_type": "execute_result"
    }
   ],
   "source": [
    "s.isalnum()"
   ]
  },
  {
   "cell_type": "code",
   "execution_count": 46,
   "id": "c7f42d62",
   "metadata": {},
   "outputs": [
    {
     "data": {
      "text/plain": [
       "True"
      ]
     },
     "execution_count": 46,
     "metadata": {},
     "output_type": "execute_result"
    }
   ],
   "source": [
    "s.isalpha()"
   ]
  },
  {
   "cell_type": "code",
   "execution_count": 47,
   "id": "bb01d122",
   "metadata": {},
   "outputs": [
    {
     "data": {
      "text/plain": [
       "False"
      ]
     },
     "execution_count": 47,
     "metadata": {},
     "output_type": "execute_result"
    }
   ],
   "source": [
    "s.isupper()"
   ]
  },
  {
   "cell_type": "code",
   "execution_count": 48,
   "id": "6e5d6536",
   "metadata": {},
   "outputs": [
    {
     "data": {
      "text/plain": [
       "False"
      ]
     },
     "execution_count": 48,
     "metadata": {},
     "output_type": "execute_result"
    }
   ],
   "source": [
    "s.istitle()"
   ]
  },
  {
   "cell_type": "code",
   "execution_count": 49,
   "id": "03bf18f6",
   "metadata": {},
   "outputs": [
    {
     "data": {
      "text/plain": [
       "False"
      ]
     },
     "execution_count": 49,
     "metadata": {},
     "output_type": "execute_result"
    }
   ],
   "source": [
    "s.endswith('e')"
   ]
  },
  {
   "cell_type": "code",
   "execution_count": 51,
   "id": "ba7868f2",
   "metadata": {},
   "outputs": [
    {
     "data": {
      "text/plain": [
       "5"
      ]
     },
     "execution_count": 51,
     "metadata": {},
     "output_type": "execute_result"
    }
   ],
   "source": [
    "len(s)"
   ]
  },
  {
   "cell_type": "code",
   "execution_count": 53,
   "id": "0ec6f9b3",
   "metadata": {},
   "outputs": [
    {
     "name": "stdout",
     "output_type": "stream",
     "text": [
      "hello\n"
     ]
    }
   ],
   "source": [
    "print(s)"
   ]
  },
  {
   "cell_type": "code",
   "execution_count": 54,
   "id": "062a8ac4",
   "metadata": {},
   "outputs": [
    {
     "data": {
      "text/plain": [
       "'hello'"
      ]
     },
     "execution_count": 54,
     "metadata": {},
     "output_type": "execute_result"
    }
   ],
   "source": [
    "s"
   ]
  },
  {
   "cell_type": "code",
   "execution_count": 60,
   "id": "65a76c6c",
   "metadata": {},
   "outputs": [],
   "source": [
    "a = [1, 2, 3, 4, 5, \"Hello\", 4.56, [3, 4, 5]]\n",
    "b = [4, 5, 6, 7, \"my\", \"name\"]"
   ]
  },
  {
   "cell_type": "code",
   "execution_count": 58,
   "id": "2c1feeed",
   "metadata": {},
   "outputs": [
    {
     "data": {
      "text/plain": [
       "[1, 2, 3, 4, 5, 'Hello', 4.56, [3, 4, 5]]"
      ]
     },
     "execution_count": 58,
     "metadata": {},
     "output_type": "execute_result"
    }
   ],
   "source": [
    "m = []\n",
    "for i in a :\n",
    "    m.append(i)\n",
    "m"
   ]
  },
  {
   "cell_type": "code",
   "execution_count": 61,
   "id": "b24aa76b",
   "metadata": {},
   "outputs": [
    {
     "data": {
      "text/plain": [
       "[1, 2, 3, 4, 5, 'Hello', 4.56, [3, 4, 5], 4, 5, 6, 7, 'my', 'name']"
      ]
     },
     "execution_count": 61,
     "metadata": {},
     "output_type": "execute_result"
    }
   ],
   "source": [
    "a + b"
   ]
  },
  {
   "cell_type": "code",
   "execution_count": 63,
   "id": "1eb8bec3",
   "metadata": {},
   "outputs": [
    {
     "data": {
      "text/plain": [
       "[1, 2, 3, 4, 5, 'Hello', 4.56, [3, 4, 5], 4, 5, 6, 7, 'my', 'name']"
      ]
     },
     "execution_count": 63,
     "metadata": {},
     "output_type": "execute_result"
    }
   ],
   "source": [
    "(a +  b)*1"
   ]
  },
  {
   "cell_type": "code",
   "execution_count": 65,
   "id": "0e4f0cdb",
   "metadata": {},
   "outputs": [
    {
     "data": {
      "text/plain": [
       "[4, 5, 6, 7, 'my', 'name', 'a', 'n', 'i', 's', 'h']"
      ]
     },
     "execution_count": 65,
     "metadata": {},
     "output_type": "execute_result"
    }
   ],
   "source": [
    "b + list(\"anish\")    #list always takes an iterable object"
   ]
  },
  {
   "cell_type": "code",
   "execution_count": 66,
   "id": "fec768b3",
   "metadata": {},
   "outputs": [
    {
     "data": {
      "text/plain": [
       "[4, 5, 6, 7, 'my', 'name']"
      ]
     },
     "execution_count": 66,
     "metadata": {},
     "output_type": "execute_result"
    }
   ],
   "source": [
    "b"
   ]
  },
  {
   "cell_type": "code",
   "execution_count": 68,
   "id": "63be7644",
   "metadata": {},
   "outputs": [],
   "source": [
    "b.append(\"anish\")"
   ]
  },
  {
   "cell_type": "code",
   "execution_count": 70,
   "id": "2b9e53c9",
   "metadata": {},
   "outputs": [],
   "source": [
    "b.insert(3, \"sfa\")"
   ]
  },
  {
   "cell_type": "code",
   "execution_count": 71,
   "id": "4fb57401",
   "metadata": {},
   "outputs": [
    {
     "data": {
      "text/plain": [
       "[4, 5, 6, 'sfa', 'sfa', 7, 'my', 'name', 'anish', 'anish']"
      ]
     },
     "execution_count": 71,
     "metadata": {},
     "output_type": "execute_result"
    }
   ],
   "source": [
    "b"
   ]
  },
  {
   "cell_type": "code",
   "execution_count": 72,
   "id": "ed6cccd6",
   "metadata": {},
   "outputs": [],
   "source": [
    "b.insert(-1, \"zzz\")"
   ]
  },
  {
   "cell_type": "code",
   "execution_count": 73,
   "id": "013443cf",
   "metadata": {},
   "outputs": [
    {
     "data": {
      "text/plain": [
       "[4, 5, 6, 'sfa', 'sfa', 7, 'my', 'name', 'anish', 'zzz', 'anish']"
      ]
     },
     "execution_count": 73,
     "metadata": {},
     "output_type": "execute_result"
    }
   ],
   "source": [
    "b"
   ]
  },
  {
   "cell_type": "code",
   "execution_count": 74,
   "id": "6d1dce71",
   "metadata": {},
   "outputs": [
    {
     "data": {
      "text/plain": [
       "'anish'"
      ]
     },
     "execution_count": 74,
     "metadata": {},
     "output_type": "execute_result"
    }
   ],
   "source": [
    "b.pop()"
   ]
  },
  {
   "cell_type": "code",
   "execution_count": 75,
   "id": "772ed922",
   "metadata": {},
   "outputs": [
    {
     "data": {
      "text/plain": [
       "[4, 5, 6, 'sfa', 'sfa', 7, 'my', 'name', 'anish', 'zzz']"
      ]
     },
     "execution_count": 75,
     "metadata": {},
     "output_type": "execute_result"
    }
   ],
   "source": [
    "b"
   ]
  },
  {
   "cell_type": "code",
   "execution_count": 76,
   "id": "701f8d30",
   "metadata": {},
   "outputs": [
    {
     "data": {
      "text/plain": [
       "6"
      ]
     },
     "execution_count": 76,
     "metadata": {},
     "output_type": "execute_result"
    }
   ],
   "source": [
    "b.pop(2)"
   ]
  },
  {
   "cell_type": "code",
   "execution_count": 77,
   "id": "0a35be51",
   "metadata": {},
   "outputs": [
    {
     "data": {
      "text/plain": [
       "[4, 5, 'sfa', 'sfa', 7, 'my', 'name', 'anish', 'zzz']"
      ]
     },
     "execution_count": 77,
     "metadata": {},
     "output_type": "execute_result"
    }
   ],
   "source": [
    "b"
   ]
  },
  {
   "cell_type": "code",
   "execution_count": 78,
   "id": "90ea658b",
   "metadata": {},
   "outputs": [
    {
     "data": {
      "text/plain": [
       "['zzz', 'anish', 'name', 'my', 7, 'sfa', 'sfa', 5, 4]"
      ]
     },
     "execution_count": 78,
     "metadata": {},
     "output_type": "execute_result"
    }
   ],
   "source": [
    "b[::-1]"
   ]
  },
  {
   "cell_type": "code",
   "execution_count": 80,
   "id": "0ac2ff7b",
   "metadata": {},
   "outputs": [
    {
     "data": {
      "text/plain": [
       "['zzz', 'anish', 'name', 'my', 7, 'sfa', 'sfa', 5, 4]"
      ]
     },
     "execution_count": 80,
     "metadata": {},
     "output_type": "execute_result"
    }
   ],
   "source": [
    "b"
   ]
  },
  {
   "cell_type": "code",
   "execution_count": 81,
   "id": "0dfa3cf5",
   "metadata": {},
   "outputs": [],
   "source": [
    "b.reverse()"
   ]
  },
  {
   "cell_type": "code",
   "execution_count": 82,
   "id": "fc8a429e",
   "metadata": {},
   "outputs": [
    {
     "data": {
      "text/plain": [
       "[4, 5, 'sfa', 'sfa', 7, 'my', 'name', 'anish', 'zzz']"
      ]
     },
     "execution_count": 82,
     "metadata": {},
     "output_type": "execute_result"
    }
   ],
   "source": [
    "b"
   ]
  },
  {
   "cell_type": "code",
   "execution_count": 83,
   "id": "ab8b8ecd",
   "metadata": {},
   "outputs": [
    {
     "ename": "TypeError",
     "evalue": "'<' not supported between instances of 'str' and 'int'",
     "output_type": "error",
     "traceback": [
      "\u001b[1;31m---------------------------------------------------------------------------\u001b[0m",
      "\u001b[1;31mTypeError\u001b[0m                                 Traceback (most recent call last)",
      "Cell \u001b[1;32mIn[83], line 1\u001b[0m\n\u001b[1;32m----> 1\u001b[0m b\u001b[38;5;241m.\u001b[39msort()\n",
      "\u001b[1;31mTypeError\u001b[0m: '<' not supported between instances of 'str' and 'int'"
     ]
    }
   ],
   "source": [
    "b.sort()"
   ]
  },
  {
   "cell_type": "code",
   "execution_count": 84,
   "id": "6fc7d861",
   "metadata": {},
   "outputs": [],
   "source": [
    "n = [3, 2, 4, 5]"
   ]
  },
  {
   "cell_type": "code",
   "execution_count": 85,
   "id": "96285e9a",
   "metadata": {},
   "outputs": [],
   "source": [
    "n.sort()"
   ]
  },
  {
   "cell_type": "code",
   "execution_count": 86,
   "id": "beb6b8da",
   "metadata": {},
   "outputs": [
    {
     "data": {
      "text/plain": [
       "[2, 3, 4, 5]"
      ]
     },
     "execution_count": 86,
     "metadata": {},
     "output_type": "execute_result"
    }
   ],
   "source": [
    "n"
   ]
  },
  {
   "cell_type": "code",
   "execution_count": 88,
   "id": "6fce643c",
   "metadata": {},
   "outputs": [],
   "source": [
    "n= ['anish', 'tejwani']"
   ]
  },
  {
   "cell_type": "code",
   "execution_count": 90,
   "id": "1bbf2874",
   "metadata": {},
   "outputs": [],
   "source": [
    "n.sort()"
   ]
  },
  {
   "cell_type": "code",
   "execution_count": 91,
   "id": "6b02f023",
   "metadata": {},
   "outputs": [
    {
     "data": {
      "text/plain": [
       "['anish', 'tejwani']"
      ]
     },
     "execution_count": 91,
     "metadata": {},
     "output_type": "execute_result"
    }
   ],
   "source": [
    "n"
   ]
  },
  {
   "cell_type": "code",
   "execution_count": 94,
   "id": "3e21ae84",
   "metadata": {},
   "outputs": [
    {
     "data": {
      "text/plain": [
       "[[3, 4, 5, 6, 7], [56, 6, 7, 89, 9], [2, 3, 4, 5, 6, 7, 8, 9, 9, 0]]"
      ]
     },
     "execution_count": 94,
     "metadata": {},
     "output_type": "execute_result"
    }
   ],
   "source": [
    "a = [3, 4, 5, 6, 7]\n",
    "b = [56, 6, 7, 89, 9]\n",
    "c = [2, 3, 4, 5, 6, 7, 8, 9, 9, 0]\n",
    "\n",
    "d = [a,b,c]\n",
    "d"
   ]
  },
  {
   "cell_type": "code",
   "execution_count": 96,
   "id": "d9710ad4",
   "metadata": {},
   "outputs": [
    {
     "data": {
      "text/plain": [
       "[2, 4, 6, 8, 9]"
      ]
     },
     "execution_count": 96,
     "metadata": {},
     "output_type": "execute_result"
    }
   ],
   "source": [
    "d[-1][::2]"
   ]
  },
  {
   "cell_type": "code",
   "execution_count": 102,
   "id": "f8256e51",
   "metadata": {},
   "outputs": [
    {
     "data": {
      "text/plain": [
       "[[7, 6, 5, 4, 3], [9, 89, 7, 6, 56], [0, 9, 9, 8, 7, 6, 5, 4, 3, 2]]"
      ]
     },
     "execution_count": 102,
     "metadata": {},
     "output_type": "execute_result"
    }
   ],
   "source": [
    "m = []\n",
    "d = d[::-1]\n",
    "for b in d:\n",
    "    m.append(b[::-1])\n",
    "m"
   ]
  },
  {
   "cell_type": "code",
   "execution_count": null,
   "id": "f6586759",
   "metadata": {},
   "outputs": [],
   "source": []
  }
 ],
 "metadata": {
  "kernelspec": {
   "display_name": "Python 3 (ipykernel)",
   "language": "python",
   "name": "python3"
  },
  "language_info": {
   "codemirror_mode": {
    "name": "ipython",
    "version": 3
   },
   "file_extension": ".py",
   "mimetype": "text/x-python",
   "name": "python",
   "nbconvert_exporter": "python",
   "pygments_lexer": "ipython3",
   "version": "3.11.3"
  }
 },
 "nbformat": 4,
 "nbformat_minor": 5
}
