{
 "cells": [
  {
   "cell_type": "code",
   "execution_count": 1,
   "id": "f6395fb0",
   "metadata": {},
   "outputs": [
    {
     "data": {
      "text/plain": [
       "2"
      ]
     },
     "execution_count": 1,
     "metadata": {},
     "output_type": "execute_result"
    }
   ],
   "source": [
    "1+1"
   ]
  },
  {
   "cell_type": "code",
   "execution_count": 14,
   "id": "78ce9d60",
   "metadata": {},
   "outputs": [
    {
     "data": {
      "text/plain": [
       "(4+7j)"
      ]
     },
     "execution_count": 14,
     "metadata": {},
     "output_type": "execute_result"
    }
   ],
   "source": [
    "a = 4 + 7j\n",
    "a"
   ]
  },
  {
   "cell_type": "code",
   "execution_count": 15,
   "id": "24756895",
   "metadata": {},
   "outputs": [
    {
     "data": {
      "text/plain": [
       "complex"
      ]
     },
     "execution_count": 15,
     "metadata": {},
     "output_type": "execute_result"
    }
   ],
   "source": [
    "type(a)"
   ]
  },
  {
   "cell_type": "code",
   "execution_count": 16,
   "id": "c135e45f",
   "metadata": {},
   "outputs": [
    {
     "data": {
      "text/plain": [
       "7.0"
      ]
     },
     "execution_count": 16,
     "metadata": {},
     "output_type": "execute_result"
    }
   ],
   "source": [
    "a.imag"
   ]
  },
  {
   "cell_type": "code",
   "execution_count": 17,
   "id": "314fe8d9",
   "metadata": {},
   "outputs": [
    {
     "data": {
      "text/plain": [
       "4.0"
      ]
     },
     "execution_count": 17,
     "metadata": {},
     "output_type": "execute_result"
    }
   ],
   "source": [
    "a.real"
   ]
  },
  {
   "cell_type": "code",
   "execution_count": 18,
   "id": "3c9b6e6d",
   "metadata": {},
   "outputs": [
    {
     "data": {
      "text/plain": [
       "<function complex.conjugate()>"
      ]
     },
     "execution_count": 18,
     "metadata": {},
     "output_type": "execute_result"
    }
   ],
   "source": [
    "a.conjugate"
   ]
  },
  {
   "cell_type": "code",
   "execution_count": 35,
   "id": "77944e5b",
   "metadata": {},
   "outputs": [
    {
     "data": {
      "text/plain": [
       "1"
      ]
     },
     "execution_count": 35,
     "metadata": {},
     "output_type": "execute_result"
    }
   ],
   "source": [
    "\"\"\"\n",
    "multi-line comment\n",
    "\"\"\"\n",
    "#this is a command for boolean value understanding\n",
    "True + False"
   ]
  },
  {
   "cell_type": "code",
   "execution_count": 36,
   "id": "49a0c5d9",
   "metadata": {},
   "outputs": [],
   "source": [
    "h = \"my name is anish\""
   ]
  },
  {
   "cell_type": "code",
   "execution_count": 37,
   "id": "60e5c4fa",
   "metadata": {},
   "outputs": [
    {
     "data": {
      "text/plain": [
       "str"
      ]
     },
     "execution_count": 37,
     "metadata": {},
     "output_type": "execute_result"
    }
   ],
   "source": [
    "type(h)"
   ]
  },
  {
   "cell_type": "code",
   "execution_count": 38,
   "id": "c21cad38",
   "metadata": {},
   "outputs": [
    {
     "data": {
      "text/plain": [
       "1982261597712"
      ]
     },
     "execution_count": 38,
     "metadata": {},
     "output_type": "execute_result"
    }
   ],
   "source": [
    "id(h)"
   ]
  },
  {
   "cell_type": "code",
   "execution_count": 39,
   "id": "e897e2c0",
   "metadata": {},
   "outputs": [
    {
     "name": "stdout",
     "output_type": "stream",
     "text": [
      "my name is anish\n"
     ]
    }
   ],
   "source": [
    "print(h)"
   ]
  },
  {
   "cell_type": "code",
   "execution_count": 40,
   "id": "dbc0949c",
   "metadata": {},
   "outputs": [],
   "source": [
    "s = \"ineuron\""
   ]
  },
  {
   "cell_type": "code",
   "execution_count": 41,
   "id": "3bbe2962",
   "metadata": {},
   "outputs": [
    {
     "data": {
      "text/plain": [
       "'i'"
      ]
     },
     "execution_count": 41,
     "metadata": {},
     "output_type": "execute_result"
    }
   ],
   "source": [
    "s[0]"
   ]
  },
  {
   "cell_type": "code",
   "execution_count": 47,
   "id": "171ca8cb",
   "metadata": {},
   "outputs": [
    {
     "data": {
      "text/plain": [
       "'ineur'"
      ]
     },
     "execution_count": 47,
     "metadata": {},
     "output_type": "execute_result"
    }
   ],
   "source": [
    "# Slicing Operations\n",
    "s[0:5]"
   ]
  },
  {
   "cell_type": "code",
   "execution_count": 49,
   "id": "55750ca4",
   "metadata": {},
   "outputs": [
    {
     "data": {
      "text/plain": [
       "'ier'"
      ]
     },
     "execution_count": 49,
     "metadata": {},
     "output_type": "execute_result"
    }
   ],
   "source": [
    "s[0:5:2]"
   ]
  },
  {
   "cell_type": "code",
   "execution_count": 50,
   "id": "6c890f3a",
   "metadata": {},
   "outputs": [
    {
     "data": {
      "text/plain": [
       "'oruen'"
      ]
     },
     "execution_count": 50,
     "metadata": {},
     "output_type": "execute_result"
    }
   ],
   "source": [
    "s[5:0:-1]"
   ]
  },
  {
   "cell_type": "code",
   "execution_count": 51,
   "id": "ec55ebfa",
   "metadata": {},
   "outputs": [
    {
     "data": {
      "text/plain": [
       "'norueni'"
      ]
     },
     "execution_count": 51,
     "metadata": {},
     "output_type": "execute_result"
    }
   ],
   "source": [
    "s[::-1]"
   ]
  },
  {
   "cell_type": "code",
   "execution_count": 52,
   "id": "5fd98396",
   "metadata": {},
   "outputs": [],
   "source": [
    "# In Pyhton List is used instaed of Arrays"
   ]
  },
  {
   "cell_type": "code",
   "execution_count": 54,
   "id": "4ed1cb35",
   "metadata": {},
   "outputs": [],
   "source": [
    "c = []"
   ]
  },
  {
   "cell_type": "code",
   "execution_count": 57,
   "id": "2b5184a1",
   "metadata": {},
   "outputs": [
    {
     "data": {
      "text/plain": [
       "list"
      ]
     },
     "execution_count": 57,
     "metadata": {},
     "output_type": "execute_result"
    }
   ],
   "source": [
    "type(c)"
   ]
  },
  {
   "cell_type": "code",
   "execution_count": 58,
   "id": "81de9f4a",
   "metadata": {},
   "outputs": [
    {
     "data": {
      "text/plain": [
       "[]"
      ]
     },
     "execution_count": 58,
     "metadata": {},
     "output_type": "execute_result"
    }
   ],
   "source": [
    "a = list()\n",
    "a"
   ]
  },
  {
   "cell_type": "code",
   "execution_count": 59,
   "id": "e4c033d6",
   "metadata": {},
   "outputs": [
    {
     "data": {
      "text/plain": [
       "list"
      ]
     },
     "execution_count": 59,
     "metadata": {},
     "output_type": "execute_result"
    }
   ],
   "source": [
    "type(a)"
   ]
  },
  {
   "cell_type": "code",
   "execution_count": 70,
   "id": "4a94c86d",
   "metadata": {},
   "outputs": [],
   "source": [
    "x = [1, 'anish', 'tejwani', 4, 45.5, 5+8j, [4, 5, 'dfsjs']]"
   ]
  },
  {
   "cell_type": "code",
   "execution_count": 71,
   "id": "77e9b808",
   "metadata": {},
   "outputs": [
    {
     "data": {
      "text/plain": [
       "list"
      ]
     },
     "execution_count": 71,
     "metadata": {},
     "output_type": "execute_result"
    }
   ],
   "source": [
    "type(x)"
   ]
  },
  {
   "cell_type": "code",
   "execution_count": 72,
   "id": "01753952",
   "metadata": {},
   "outputs": [
    {
     "data": {
      "text/plain": [
       "'tejwani'"
      ]
     },
     "execution_count": 72,
     "metadata": {},
     "output_type": "execute_result"
    }
   ],
   "source": [
    "x[2]"
   ]
  },
  {
   "cell_type": "code",
   "execution_count": 73,
   "id": "356d8efe",
   "metadata": {
    "scrolled": true
   },
   "outputs": [
    {
     "data": {
      "text/plain": [
       "int"
      ]
     },
     "execution_count": 73,
     "metadata": {},
     "output_type": "execute_result"
    }
   ],
   "source": [
    "type(x[3])"
   ]
  },
  {
   "cell_type": "code",
   "execution_count": 74,
   "id": "9fae8ba0",
   "metadata": {
    "scrolled": true
   },
   "outputs": [
    {
     "data": {
      "text/plain": [
       "'dfsjs'"
      ]
     },
     "execution_count": 74,
     "metadata": {},
     "output_type": "execute_result"
    }
   ],
   "source": [
    "x[6][2]"
   ]
  },
  {
   "cell_type": "code",
   "execution_count": 75,
   "id": "68a3cc34",
   "metadata": {},
   "outputs": [
    {
     "data": {
      "text/plain": [
       "[1, 'anish', 'tejwani', 4, 45.5]"
      ]
     },
     "execution_count": 75,
     "metadata": {},
     "output_type": "execute_result"
    }
   ],
   "source": [
    "x[0:5]"
   ]
  },
  {
   "cell_type": "code",
   "execution_count": null,
   "id": "0519255b",
   "metadata": {},
   "outputs": [],
   "source": []
  },
  {
   "cell_type": "code",
   "execution_count": 9,
   "id": "bcc10053",
   "metadata": {},
   "outputs": [],
   "source": [
    "# 2nd Lecture"
   ]
  },
  {
   "cell_type": "code",
   "execution_count": null,
   "id": "e61f8215",
   "metadata": {},
   "outputs": [],
   "source": []
  },
  {
   "cell_type": "code",
   "execution_count": 2,
   "id": "ef67679f",
   "metadata": {},
   "outputs": [
    {
     "data": {
      "text/plain": [
       "range(0, 10)"
      ]
     },
     "execution_count": 2,
     "metadata": {},
     "output_type": "execute_result"
    }
   ],
   "source": [
    "range(10)     #behaves like a generator function"
   ]
  },
  {
   "cell_type": "code",
   "execution_count": 3,
   "id": "b2ef3701",
   "metadata": {},
   "outputs": [
    {
     "data": {
      "text/plain": [
       "[0, 1, 2, 3, 4, 5, 6, 7, 8, 9]"
      ]
     },
     "execution_count": 3,
     "metadata": {},
     "output_type": "execute_result"
    }
   ],
   "source": [
    "list(range(10))      #always excludes upper bound"
   ]
  },
  {
   "cell_type": "code",
   "execution_count": 5,
   "id": "736686be",
   "metadata": {},
   "outputs": [
    {
     "data": {
      "text/plain": [
       "[3, 4, 5, 6, 7, 8, 9]"
      ]
     },
     "execution_count": 5,
     "metadata": {},
     "output_type": "execute_result"
    }
   ],
   "source": [
    "list(range(3, 10))"
   ]
  },
  {
   "cell_type": "code",
   "execution_count": 6,
   "id": "8fe0e6e8",
   "metadata": {},
   "outputs": [
    {
     "data": {
      "text/plain": [
       "[]"
      ]
     },
     "execution_count": 6,
     "metadata": {},
     "output_type": "execute_result"
    }
   ],
   "source": [
    "list(range(10, 3))"
   ]
  },
  {
   "cell_type": "code",
   "execution_count": 7,
   "id": "2e18aff1",
   "metadata": {},
   "outputs": [
    {
     "data": {
      "text/plain": [
       "[10, 9, 8, 7, 6, 5, 4]"
      ]
     },
     "execution_count": 7,
     "metadata": {},
     "output_type": "execute_result"
    }
   ],
   "source": [
    "list(range(10, 3, -1))"
   ]
  },
  {
   "cell_type": "code",
   "execution_count": 18,
   "id": "54862391",
   "metadata": {},
   "outputs": [],
   "source": [
    "l = [3,4,5,6,7,8,23,4,5,5]\n",
    "m = []\n",
    "\n",
    "for i in l:\n",
    "    m.append(i+2)"
   ]
  },
  {
   "cell_type": "code",
   "execution_count": 19,
   "id": "e96a5ea2",
   "metadata": {},
   "outputs": [
    {
     "data": {
      "text/plain": [
       "[5, 6, 7, 8, 9, 10, 25, 6, 7, 7]"
      ]
     },
     "execution_count": 19,
     "metadata": {},
     "output_type": "execute_result"
    }
   ],
   "source": [
    "m"
   ]
  },
  {
   "cell_type": "code",
   "execution_count": 29,
   "id": "a20afd4e",
   "metadata": {},
   "outputs": [],
   "source": [
    "l = [3,4,5,6,7,8,23,4,5,5]\n",
    "m = []\n",
    "\n",
    "for i in range(len(l)):\n",
    "    m.append(l[i]+2)"
   ]
  },
  {
   "cell_type": "code",
   "execution_count": 31,
   "id": "bd9c3042",
   "metadata": {
    "scrolled": true
   },
   "outputs": [
    {
     "data": {
      "text/plain": [
       "[5, 6, 7, 8, 9, 10, 25, 6, 7, 7]"
      ]
     },
     "execution_count": 31,
     "metadata": {},
     "output_type": "execute_result"
    }
   ],
   "source": [
    "m"
   ]
  },
  {
   "cell_type": "code",
   "execution_count": 38,
   "id": "b581d320",
   "metadata": {},
   "outputs": [],
   "source": [
    "l = [3,4,5,6,7,8,23,4,5,5]\n",
    "m = []\n",
    "\n",
    "for i in l:\n",
    "    if i >= 10:\n",
    "        m.append(i+2)"
   ]
  },
  {
   "cell_type": "code",
   "execution_count": 40,
   "id": "dc11e752",
   "metadata": {},
   "outputs": [
    {
     "data": {
      "text/plain": [
       "[25]"
      ]
     },
     "execution_count": 40,
     "metadata": {},
     "output_type": "execute_result"
    }
   ],
   "source": [
    "m"
   ]
  },
  {
   "cell_type": "code",
   "execution_count": 46,
   "id": "ba877c6e",
   "metadata": {},
   "outputs": [
    {
     "name": "stdout",
     "output_type": "stream",
     "text": [
      "yes this data is lesser than 50\n"
     ]
    }
   ],
   "source": [
    "s = 10\n",
    "if s > 10:\n",
    "    print(\"yes it is lesser than 10\")\n",
    "elif s < 50:\n",
    "    print(\"yes this data is lesser than 50\")\n",
    "else :\n",
    "    print(\"none of the condition is true\")\n",
    "    "
   ]
  },
  {
   "cell_type": "code",
   "execution_count": 47,
   "id": "8832fccb",
   "metadata": {},
   "outputs": [],
   "source": [
    "l = [3,4,5,6,7,8,23,4,5,5,\"anish\",\"tejwani\"]\n",
    "m = []\n",
    "\n",
    "for i in l:\n",
    "    if type(i) == str:\n",
    "        m.append(i)"
   ]
  },
  {
   "cell_type": "code",
   "execution_count": 48,
   "id": "11896698",
   "metadata": {},
   "outputs": [
    {
     "data": {
      "text/plain": [
       "['anish', 'tejwani']"
      ]
     },
     "execution_count": 48,
     "metadata": {},
     "output_type": "execute_result"
    }
   ],
   "source": [
    "m"
   ]
  },
  {
   "cell_type": "code",
   "execution_count": 51,
   "id": "d03b234e",
   "metadata": {},
   "outputs": [
    {
     "name": "stdout",
     "output_type": "stream",
     "text": [
      "5\n",
      "6\n",
      "7\n",
      "8\n",
      "9\n",
      "23\n",
      "45\n",
      "nothing is left in my collection\n"
     ]
    }
   ],
   "source": [
    "l = [5, 6, 7, 8, 9, 23, 45]\n",
    "for i in l:\n",
    "    print(i)\n",
    "else:\n",
    "    print(\"nothing is left in my collection\")"
   ]
  },
  {
   "cell_type": "code",
   "execution_count": 54,
   "id": "26e78674",
   "metadata": {},
   "outputs": [
    {
     "name": "stdout",
     "output_type": "stream",
     "text": [
      "1\n",
      "3\n",
      "6\n",
      "10\n",
      "15\n",
      "21\n",
      "28\n",
      "36\n",
      "45\n",
      "55\n",
      "55\n"
     ]
    }
   ],
   "source": [
    "d = 10\n",
    "s = 0\n",
    "i = 1\n",
    "\n",
    "while i <= d:\n",
    "    s = s+i\n",
    "    i += 1\n",
    "    print(s)\n",
    "print(s)"
   ]
  },
  {
   "cell_type": "code",
   "execution_count": 56,
   "id": "8f235938",
   "metadata": {},
   "outputs": [
    {
     "name": "stdout",
     "output_type": "stream",
     "text": [
      "a\n",
      "n\n",
      "i\n",
      "s\n",
      "h\n"
     ]
    }
   ],
   "source": [
    "for x in \"anish\":\n",
    "    print(x)"
   ]
  },
  {
   "cell_type": "code",
   "execution_count": 64,
   "id": "8202452a",
   "metadata": {},
   "outputs": [
    {
     "name": "stdout",
     "output_type": "stream",
     "text": [
      "a\n",
      "n\n",
      "i\n",
      "out of loop\n"
     ]
    }
   ],
   "source": [
    "for x in \"anish\":\n",
    "    if x == 's':\n",
    "        break\n",
    "    print(x)\n",
    "else :      # else will execute only if the for loop is totally executed\n",
    "    print(\"i am able to complete iteration\")\n",
    "print(\"out of loop\")"
   ]
  },
  {
   "cell_type": "code",
   "execution_count": 66,
   "id": "6e5a03ee",
   "metadata": {},
   "outputs": [
    {
     "name": "stdout",
     "output_type": "stream",
     "text": [
      "a\n",
      "n\n",
      "i\n",
      "s\n",
      "h\n",
      "i am able to complete iteration\n",
      "out of loop\n"
     ]
    }
   ],
   "source": [
    "for x in \"anish\":\n",
    "    if x == 'd':\n",
    "        break\n",
    "    print(x)\n",
    "else :      # else will execute only if the for loop is totally executed\n",
    "    print(\"i am able to complete iteration\")\n",
    "print(\"out of loop\")"
   ]
  },
  {
   "cell_type": "code",
   "execution_count": 70,
   "id": "ca9af17e",
   "metadata": {},
   "outputs": [
    {
     "name": "stdout",
     "output_type": "stream",
     "text": [
      "a\n",
      "n\n",
      "s\n",
      "h\n"
     ]
    }
   ],
   "source": [
    "for i in \"anish\":\n",
    "    if i == \"i\":\n",
    "        continue\n",
    "    print(i)"
   ]
  },
  {
   "cell_type": "code",
   "execution_count": 92,
   "id": "99fe42cd",
   "metadata": {},
   "outputs": [
    {
     "name": "stdout",
     "output_type": "stream",
     "text": [
      "Anish\n"
     ]
    },
    {
     "data": {
      "text/plain": [
       "'Anish'"
      ]
     },
     "execution_count": 92,
     "metadata": {},
     "output_type": "execute_result"
    }
   ],
   "source": [
    "input() # treats everything as a String"
   ]
  },
  {
   "cell_type": "code",
   "execution_count": 91,
   "id": "6e5cefdb",
   "metadata": {},
   "outputs": [
    {
     "name": "stdout",
     "output_type": "stream",
     "text": [
      "5342\n"
     ]
    },
    {
     "data": {
      "text/plain": [
       "int"
      ]
     },
     "execution_count": 91,
     "metadata": {},
     "output_type": "execute_result"
    }
   ],
   "source": [
    "a = input() # treats everything as a String\n",
    "b = int(a)\n",
    "type(b)"
   ]
  },
  {
   "cell_type": "code",
   "execution_count": 100,
   "id": "7f189565",
   "metadata": {},
   "outputs": [
    {
     "name": "stdout",
     "output_type": "stream",
     "text": [
      "insert only an integer 5\n",
      "integer inserted\n"
     ]
    },
    {
     "data": {
      "text/plain": [
       "[5, 5, 5, 5]"
      ]
     },
     "execution_count": 100,
     "metadata": {},
     "output_type": "execute_result"
    }
   ],
   "source": [
    "a = int(input(\"insert only an integer \"))\n",
    "print(\"integer inserted\")\n",
    "l = [1, 2, 3, 4, 5, 6, 7, 5, 5, 5, 6, 7, 8, 9, 9]\n",
    "m = []\n",
    "\n",
    "for i in l:\n",
    "    if i == a:\n",
    "        m.append(i)\n",
    "m"
   ]
  },
  {
   "cell_type": "code",
   "execution_count": 101,
   "id": "10d1366e",
   "metadata": {},
   "outputs": [
    {
     "data": {
      "text/plain": [
       "'anish tejwani'"
      ]
     },
     "execution_count": 101,
     "metadata": {},
     "output_type": "execute_result"
    }
   ],
   "source": [
    "\"anish\" + \" tejwani\""
   ]
  }
 ],
 "metadata": {
  "kernelspec": {
   "display_name": "Python 3 (ipykernel)",
   "language": "python",
   "name": "python3"
  },
  "language_info": {
   "codemirror_mode": {
    "name": "ipython",
    "version": 3
   },
   "file_extension": ".py",
   "mimetype": "text/x-python",
   "name": "python",
   "nbconvert_exporter": "python",
   "pygments_lexer": "ipython3",
   "version": "3.11.3"
  }
 },
 "nbformat": 4,
 "nbformat_minor": 5
}
