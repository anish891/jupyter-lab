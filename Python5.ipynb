{
 "cells": [
  {
   "cell_type": "code",
   "execution_count": null,
   "id": "162bd67f",
   "metadata": {},
   "outputs": [],
   "source": [
    " #Exception Handling"
   ]
  },
  {
   "cell_type": "code",
   "execution_count": 10,
   "id": "e0850c59",
   "metadata": {},
   "outputs": [
    {
     "name": "stdout",
     "output_type": "stream",
     "text": [
      "my code is working fine\n"
     ]
    }
   ],
   "source": [
    "try :\n",
    "    f = open(\"xyz.txt\", 'w')\n",
    "    f.write(\"fsgsh sa aaf\")\n",
    "    print(\"my code is working fine\")\n",
    "except:\n",
    "    print(\"my code has failed\")"
   ]
  },
  {
   "cell_type": "code",
   "execution_count": 13,
   "id": "2a07c123",
   "metadata": {},
   "outputs": [
    {
     "name": "stdout",
     "output_type": "stream",
     "text": [
      "my code has failed\n"
     ]
    }
   ],
   "source": [
    "try :\n",
    "    f = open(\"xyz.txt\", 'r')\n",
    "    f.write(\"fsgsh sa aaf\")\n",
    "    try:\n",
    "        print(\"my code is working fine\")\n",
    "    except:\n",
    "        print(\"this print is working fine\")\n",
    "except:\n",
    "    print(\"my code has failed\")"
   ]
  },
  {
   "cell_type": "code",
   "execution_count": 14,
   "id": "1419808f",
   "metadata": {},
   "outputs": [
    {
     "name": "stdout",
     "output_type": "stream",
     "text": [
      "0\n",
      "there is an issue with code\n",
      "this is the line at the end\n"
     ]
    }
   ],
   "source": [
    "try:\n",
    "    a = int(input())\n",
    "    b = 7/a\n",
    "    print(b)\n",
    "except:\n",
    "    print(\"there is an issue with code\")\n",
    "print(\"this is the line at the end\")"
   ]
  },
  {
   "cell_type": "code",
   "execution_count": 15,
   "id": "07a8887b",
   "metadata": {},
   "outputs": [
    {
     "name": "stdout",
     "output_type": "stream",
     "text": [
      "0\n",
      "division by zero\n",
      "this is the line at the end\n"
     ]
    }
   ],
   "source": [
    "try:\n",
    "    a = int(input())\n",
    "    b = 7/a\n",
    "    print(b)\n",
    "except Exception as e:\n",
    "    print(e)\n",
    "print(\"this is the line at the end\")"
   ]
  },
  {
   "cell_type": "code",
   "execution_count": 18,
   "id": "25aac64a",
   "metadata": {},
   "outputs": [
    {
     "name": "stdout",
     "output_type": "stream",
     "text": [
      "9\n",
      "this code is working fine\n",
      " it has excetued a try block and is working fine\n"
     ]
    }
   ],
   "source": [
    "try:\n",
    "    a = int(input())\n",
    "    b = 9/a\n",
    "    print(\"this code is working fine\")\n",
    "except:\n",
    "    print(\" there is some issue with my try block \")\n",
    "else:\n",
    "    print(\" it has excetued a try block and is working fine\")"
   ]
  },
  {
   "cell_type": "code",
   "execution_count": 20,
   "id": "5dfb4840",
   "metadata": {},
   "outputs": [
    {
     "name": "stdout",
     "output_type": "stream",
     "text": [
      "0\n",
      " there is some issue with my try block \n",
      "this block should execute itself no matter what\n"
     ]
    }
   ],
   "source": [
    "try:\n",
    "    a = int(input())\n",
    "    b = 9/a\n",
    "    print(\"this code is working fine\")\n",
    "except:\n",
    "    print(\" there is some issue with my try block \")\n",
    "else:\n",
    "    print(\" it has excetued a try block and is working fine\")\n",
    "finally:\n",
    "    print(\"this block should execute itself no matter what\")"
   ]
  },
  {
   "cell_type": "code",
   "execution_count": null,
   "id": "295c8245",
   "metadata": {},
   "outputs": [],
   "source": []
  }
 ],
 "metadata": {
  "kernelspec": {
   "display_name": "Python 3 (ipykernel)",
   "language": "python",
   "name": "python3"
  },
  "language_info": {
   "codemirror_mode": {
    "name": "ipython",
    "version": 3
   },
   "file_extension": ".py",
   "mimetype": "text/x-python",
   "name": "python",
   "nbconvert_exporter": "python",
   "pygments_lexer": "ipython3",
   "version": "3.11.3"
  }
 },
 "nbformat": 4,
 "nbformat_minor": 5
}
